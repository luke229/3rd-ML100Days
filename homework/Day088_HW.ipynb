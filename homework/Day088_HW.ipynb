{
 "cells": [
  {
   "cell_type": "markdown",
   "metadata": {},
   "source": [
    "## Work\n",
    "1. 請嘗試寫一個 callback 用來記錄各類別在訓練過程中，對驗證集的 True Positive 與 True Negative"
   ]
  },
  {
   "cell_type": "code",
   "execution_count": 1,
   "metadata": {},
   "outputs": [
    {
     "name": "stderr",
     "output_type": "stream",
     "text": [
      "Using TensorFlow backend.\n"
     ]
    }
   ],
   "source": [
    "import os\n",
    "import keras\n",
    "import numpy as np\n",
    "# Disable GPU\n",
    "os.environ[\"CUDA_VISIBLE_DEVICES\"] = \"\""
   ]
  },
  {
   "cell_type": "code",
   "execution_count": 2,
   "metadata": {},
   "outputs": [],
   "source": [
    "train, test = keras.datasets.cifar10.load_data()"
   ]
  },
  {
   "cell_type": "code",
   "execution_count": 3,
   "metadata": {},
   "outputs": [],
   "source": [
    "## 資料前處理\n",
    "def preproc_x(x, flatten=True):\n",
    "    x = x / 255.\n",
    "    if flatten:\n",
    "        x = x.reshape((len(x), -1))\n",
    "    return x\n",
    "\n",
    "def preproc_y(y, num_classes=10):\n",
    "    if y.shape[-1] == 1:\n",
    "        y = keras.utils.to_categorical(y, num_classes)\n",
    "    return y    "
   ]
  },
  {
   "cell_type": "code",
   "execution_count": 4,
   "metadata": {},
   "outputs": [],
   "source": [
    "x_train, y_train = train\n",
    "x_test, y_test = test\n",
    "\n",
    "# Preproc the inputs\n",
    "x_train = preproc_x(x_train)\n",
    "x_test = preproc_x(x_test)\n",
    "\n",
    "# Preprc the outputs\n",
    "y_train = preproc_y(y_train)\n",
    "y_test = preproc_y(y_test)"
   ]
  },
  {
   "cell_type": "code",
   "execution_count": 5,
   "metadata": {},
   "outputs": [],
   "source": [
    "from keras.layers import BatchNormalization\n",
    "def build_mlp(input_shape, output_units=10, num_neurons=[256, 256, 256]):\n",
    "    \"\"\"Code Here\n",
    "    建立你的神經網路\n",
    "    \"\"\"\n",
    "    input_layer = keras.layers.Input(input_shape)\n",
    "    \n",
    "    for i, n_units in enumerate(num_neurons):\n",
    "        if i == 0:\n",
    "            x = keras.layers.Dense(units=n_units, \n",
    "                                   activation=\"relu\", \n",
    "                                   name=\"hidden_layer\"+str(i+1))(input_layer)\n",
    "            x = BatchNormalization()(x)\n",
    "        else:\n",
    "            x = keras.layers.Dense(units=n_units, \n",
    "                                   activation=\"relu\", \n",
    "                                   name=\"hidden_layer\"+str(i+1))(x)\n",
    "            x = BatchNormalization()(x)\n",
    "    \n",
    "    out = keras.layers.Dense(units=output_units, activation=\"softmax\", name=\"output\")(x)\n",
    "    \n",
    "    model = keras.models.Model(inputs=[input_layer], outputs=[out])\n",
    "        \n",
    "    return model"
   ]
  },
  {
   "cell_type": "code",
   "execution_count": 6,
   "metadata": {},
   "outputs": [],
   "source": [
    "## 超參數設定\n",
    "LEARNING_RATE = 1e-3\n",
    "EPOCHS = 25\n",
    "BATCH_SIZE = 1024\n",
    "MOMENTUM = 0.95"
   ]
  },
  {
   "cell_type": "code",
   "execution_count": 7,
   "metadata": {},
   "outputs": [],
   "source": [
    "# 載入 Callbacks\n",
    "from keras.callbacks import Callback\n",
    "\n",
    "# Record_fp_tp\n",
    "class Record_tp_tn(Callback):\n",
    "    \"\"\"Code Here\n",
    "    撰寫一個紀錄 ture positive 與 true negative 數量的 callbacks    \n",
    "    \"\"\"\n",
    "    def on_train_begin(self, epoch, logs = {}):\n",
    "        logs = logs or {}\n",
    "        record_items = ['val_tp', 'val_tn', 'val_fp', 'val_fn']\n",
    "        for i in record_items:\n",
    "            if i not in self.params['metrics']:\n",
    "                self.params['metrics'].append(i)\n",
    "        \n",
    "    def on_epoch_end(self, epoch, logs = {}, thres = 0.5):\n",
    "        logs = logs or {}\n",
    "        y_true = self.validation_data[1].argmax(axis = 1)\n",
    "        y_pred = self.model.predict(self.validation_data[0])\n",
    "        y_pred = (y_pred[:, 1] >= thres) * 1\n",
    "        \n",
    "        logs[\"val_tp\"] = np.sum(np.logical_and(y_pred == 1, y_true == 1))\n",
    "        logs[\"val_tn\"] = np.sum(np.logical_and(y_pred == 0, y_true == 0))\n",
    "        \n",
    "rec_tptn = Record_tp_tn()"
   ]
  },
  {
   "cell_type": "code",
   "execution_count": 9,
   "metadata": {
    "scrolled": true
   },
   "outputs": [
    {
     "name": "stdout",
     "output_type": "stream",
     "text": [
      "Model: \"model_2\"\n",
      "_________________________________________________________________\n",
      "Layer (type)                 Output Shape              Param #   \n",
      "=================================================================\n",
      "input_2 (InputLayer)         (None, 3072)              0         \n",
      "_________________________________________________________________\n",
      "hidden_layer1 (Dense)        (None, 256)               786688    \n",
      "_________________________________________________________________\n",
      "batch_normalization_4 (Batch (None, 256)               1024      \n",
      "_________________________________________________________________\n",
      "hidden_layer2 (Dense)        (None, 256)               65792     \n",
      "_________________________________________________________________\n",
      "batch_normalization_5 (Batch (None, 256)               1024      \n",
      "_________________________________________________________________\n",
      "hidden_layer3 (Dense)        (None, 256)               65792     \n",
      "_________________________________________________________________\n",
      "batch_normalization_6 (Batch (None, 256)               1024      \n",
      "_________________________________________________________________\n",
      "output (Dense)               (None, 10)                2570      \n",
      "=================================================================\n",
      "Total params: 923,914\n",
      "Trainable params: 922,378\n",
      "Non-trainable params: 1,536\n",
      "_________________________________________________________________\n",
      "Train on 50000 samples, validate on 10000 samples\n",
      "Epoch 1/25\n",
      "50000/50000 [==============================] - 8s 159us/step - loss: 2.2755 - accuracy: 0.2547 - val_loss: 2.1483 - val_accuracy: 0.2089\n",
      "Epoch 2/25\n",
      "50000/50000 [==============================] - 5s 104us/step - loss: 1.7695 - accuracy: 0.3856 - val_loss: 1.9938 - val_accuracy: 0.2857\n",
      "Epoch 3/25\n",
      "50000/50000 [==============================] - 5s 103us/step - loss: 1.6437 - accuracy: 0.4247 - val_loss: 1.8472 - val_accuracy: 0.3534\n",
      "Epoch 4/25\n",
      "50000/50000 [==============================] - 5s 101us/step - loss: 1.5685 - accuracy: 0.4506 - val_loss: 1.7342 - val_accuracy: 0.3923\n",
      "Epoch 5/25\n",
      "50000/50000 [==============================] - 5s 105us/step - loss: 1.5168 - accuracy: 0.4689 - val_loss: 1.6523 - val_accuracy: 0.4186\n",
      "Epoch 6/25\n",
      "50000/50000 [==============================] - 6s 122us/step - loss: 1.4702 - accuracy: 0.4854 - val_loss: 1.5953 - val_accuracy: 0.4337\n",
      "Epoch 7/25\n",
      "50000/50000 [==============================] - 6s 115us/step - loss: 1.4340 - accuracy: 0.4989 - val_loss: 1.5510 - val_accuracy: 0.4447\n",
      "Epoch 8/25\n",
      "50000/50000 [==============================] - 6s 110us/step - loss: 1.3994 - accuracy: 0.5114 - val_loss: 1.5285 - val_accuracy: 0.4525\n",
      "Epoch 9/25\n",
      "50000/50000 [==============================] - 6s 113us/step - loss: 1.3700 - accuracy: 0.5198 - val_loss: 1.5128 - val_accuracy: 0.4591\n",
      "Epoch 10/25\n",
      "50000/50000 [==============================] - 5s 110us/step - loss: 1.3421 - accuracy: 0.5322 - val_loss: 1.4987 - val_accuracy: 0.4658\n",
      "Epoch 11/25\n",
      "50000/50000 [==============================] - 6s 110us/step - loss: 1.3170 - accuracy: 0.5424 - val_loss: 1.4933 - val_accuracy: 0.4653\n",
      "Epoch 12/25\n",
      "50000/50000 [==============================] - 6s 116us/step - loss: 1.2939 - accuracy: 0.5486 - val_loss: 1.4868 - val_accuracy: 0.4732\n",
      "Epoch 13/25\n",
      "50000/50000 [==============================] - 5s 109us/step - loss: 1.2710 - accuracy: 0.5578 - val_loss: 1.4685 - val_accuracy: 0.4807\n",
      "Epoch 14/25\n",
      "50000/50000 [==============================] - 6s 114us/step - loss: 1.2501 - accuracy: 0.5648 - val_loss: 1.4731 - val_accuracy: 0.4775\n",
      "Epoch 15/25\n",
      "50000/50000 [==============================] - 6s 116us/step - loss: 1.2300 - accuracy: 0.5731 - val_loss: 1.4646 - val_accuracy: 0.4864\n",
      "Epoch 16/25\n",
      "50000/50000 [==============================] - 5s 99us/step - loss: 1.2098 - accuracy: 0.5795 - val_loss: 1.4720 - val_accuracy: 0.4802\n",
      "Epoch 17/25\n",
      "50000/50000 [==============================] - 5s 103us/step - loss: 1.1895 - accuracy: 0.5875 - val_loss: 1.4614 - val_accuracy: 0.4814\n",
      "Epoch 18/25\n",
      "50000/50000 [==============================] - 5s 107us/step - loss: 1.1717 - accuracy: 0.5951 - val_loss: 1.4596 - val_accuracy: 0.4880\n",
      "Epoch 19/25\n",
      "50000/50000 [==============================] - 5s 108us/step - loss: 1.1514 - accuracy: 0.6009 - val_loss: 1.4644 - val_accuracy: 0.4877\n",
      "Epoch 20/25\n",
      "50000/50000 [==============================] - 5s 107us/step - loss: 1.1346 - accuracy: 0.6082 - val_loss: 1.4509 - val_accuracy: 0.4935\n",
      "Epoch 21/25\n",
      "50000/50000 [==============================] - 5s 108us/step - loss: 1.1163 - accuracy: 0.6171 - val_loss: 1.4558 - val_accuracy: 0.4888\n",
      "Epoch 22/25\n",
      "50000/50000 [==============================] - 6s 118us/step - loss: 1.0997 - accuracy: 0.6222 - val_loss: 1.4528 - val_accuracy: 0.4939\n",
      "Epoch 23/25\n",
      "50000/50000 [==============================] - 6s 116us/step - loss: 1.0838 - accuracy: 0.6285 - val_loss: 1.4437 - val_accuracy: 0.4965\n",
      "Epoch 24/25\n",
      "50000/50000 [==============================] - 5s 104us/step - loss: 1.0655 - accuracy: 0.6356 - val_loss: 1.4462 - val_accuracy: 0.4965\n",
      "Epoch 25/25\n",
      "50000/50000 [==============================] - 5s 94us/step - loss: 1.0504 - accuracy: 0.6404 - val_loss: 1.4432 - val_accuracy: 0.4971\n"
     ]
    }
   ],
   "source": [
    "model = build_mlp(input_shape=x_train.shape[1:])\n",
    "model.summary()\n",
    "optimizer = keras.optimizers.SGD(lr=LEARNING_RATE, nesterov=True, momentum=MOMENTUM)\n",
    "model.compile(loss=\"categorical_crossentropy\", metrics=[\"accuracy\"], optimizer=optimizer)\n",
    "\n",
    "\"\"\"Code Here\n",
    "將 callbacks 放入模型訓練流程中\n",
    "\"\"\"\n",
    "model.fit(x_train, y_train, \n",
    "          epochs=EPOCHS, \n",
    "          batch_size=BATCH_SIZE, \n",
    "          validation_data=(x_test, y_test), \n",
    "          shuffle=True,\n",
    "          callbacks=[rec_tptn])\n",
    "\n",
    "# Collect results\n",
    "train_loss = model.history.history[\"loss\"]\n",
    "valid_loss = model.history.history[\"val_loss\"]\n",
    "train_acc = model.history.history[\"accuracy\"]\n",
    "valid_acc = model.history.history[\"val_accuracy\"]\n",
    "\n",
    "\"\"\"Code Here\n",
    "將 tp/tn 從訓練完的模型中取出\n",
    "\"\"\"\n",
    "valid_tp = model.history.history['val_tp']\n",
    "valid_tn = model.history.history['val_tn']"
   ]
  },
  {
   "cell_type": "code",
   "execution_count": 10,
   "metadata": {},
   "outputs": [
    {
     "data": {
      "image/png": "[encoded data removed]",
      "text/plain": [
       "<Figure size 432x288 with 1 Axes>"
      ]
     },
     "metadata": {
      "needs_background": "light"
     },
     "output_type": "display_data"
    },
    {
     "data": {
      "image/png": "[encoded data removed]",
      "text/plain": [
       "<Figure size 432x288 with 1 Axes>"
      ]
     },
     "metadata": {
      "needs_background": "light"
     },
     "output_type": "display_data"
    },
    {
     "data": {
      "image/png": "[encoded data removed]",
      "text/plain": [
       "<Figure size 432x288 with 1 Axes>"
      ]
     },
     "metadata": {
      "needs_background": "light"
     },
     "output_type": "display_data"
    }
   ],
   "source": [
    "import matplotlib.pyplot as plt\n",
    "%matplotlib inline\n",
    "\n",
    "plt.plot(range(len(train_loss)), train_loss, label=\"train loss\")\n",
    "plt.plot(range(len(valid_loss)), valid_loss, label=\"valid loss\")\n",
    "plt.legend()\n",
    "plt.title(\"Loss\")\n",
    "plt.show()\n",
    "\n",
    "plt.plot(range(len(train_acc)), train_acc, label=\"train accuracy\")\n",
    "plt.plot(range(len(valid_acc)), valid_acc, label=\"valid accuracy\")\n",
    "plt.legend()\n",
    "plt.title(\"Accuracy\")\n",
    "plt.show()\n",
    "\n",
    "plt.plot(range(len(valid_tp)), valid_tp, label=\"valid tp\", color=\"navy\")\n",
    "plt.plot(range(len(valid_tn)), valid_tn, label=\"valid tn\", color=\"red\")\n",
    "plt.legend()\n",
    "plt.title(\"True positives and True Negatives\")\n",
    "plt.show()\n"
   ]
  }
 ],
 "metadata": {
  "kernelspec": {
   "display_name": "Python 3",
   "language": "python",
   "name": "python3"
  },
  "language_info": {
   "codemirror_mode": {
    "name": "ipython",
    "version": 3
   },
   "file_extension": ".py",
   "mimetype": "text/x-python",
   "name": "python",
   "nbconvert_exporter": "python",
   "pygments_lexer": "ipython3",
   "version": "3.7.3"
  }
 },
 "nbformat": 4,
 "nbformat_minor": 2
}
