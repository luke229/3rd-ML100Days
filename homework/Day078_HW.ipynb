{
 "cells": [
  {
   "cell_type": "markdown",
   "metadata": {},
   "source": [
    "## Work\n",
    "1. 請嘗試將 preproc_x 替換成以每筆資料的 min/max 進行標準化至 -1 ~ 1 間，再進行訓練\n",
    "2. 請嘗試將 mlp 疊更深 (e.g 5~10 層)，進行訓練後觀察 learning curve 的走勢\n",
    "3. (optional) 請改用 GPU 進行訓練 (如果你有 GPU 的話)，比較使用 CPU 與 GPU 的訓練速度"
   ]
  },
  {
   "cell_type": "code",
   "execution_count": 1,
   "metadata": {},
   "outputs": [
    {
     "data": {
      "text/plain": [
       "'\\nYour code here (optional)\\n確認硬體資源\\n'"
      ]
     },
     "execution_count": 1,
     "metadata": {},
     "output_type": "execute_result"
    }
   ],
   "source": [
    "## \n",
    "\"\"\"\n",
    "Your code here (optional)\n",
    "確認硬體資源\n",
    "\"\"\"\n"
   ]
  },
  {
   "cell_type": "code",
   "execution_count": 2,
   "metadata": {},
   "outputs": [
    {
     "name": "stderr",
     "output_type": "stream",
     "text": [
      "Using TensorFlow backend.\n"
     ]
    }
   ],
   "source": [
    "import os\n",
    "import keras\n",
    "\n",
    "# 請嘗試設定 GPU：os.environ\n"
   ]
  },
  {
   "cell_type": "code",
   "execution_count": 3,
   "metadata": {},
   "outputs": [],
   "source": [
    "train, test = keras.datasets.cifar10.load_data()"
   ]
  },
  {
   "cell_type": "code",
   "execution_count": 4,
   "metadata": {},
   "outputs": [],
   "source": [
    "## 資料前處理\n",
    "\"\"\"\n",
    "Your code here\n",
    "\"\"\"\n",
    "def preproc_x(x, flatten=True):\n",
    "    x = 2*(((x - x.min()) / (x.max() - x.min()))-0.5)\n",
    "    if flatten:\n",
    "        x = x.reshape((len(x), -1))\n",
    "    return x\n",
    "\n",
    "def preproc_y(y, num_classes=10):\n",
    "    if y.shape[-1] == 1:\n",
    "        y = keras.utils.to_categorical(y, num_classes)\n",
    "    return y"
   ]
  },
  {
   "cell_type": "code",
   "execution_count": 5,
   "metadata": {},
   "outputs": [],
   "source": [
    "x_train, y_train = train\n",
    "x_test, y_test = test\n",
    "\n",
    "# Preproc the inputs\n",
    "x_train = preproc_x(x_train)\n",
    "x_test = preproc_x(x_test)\n",
    "\n",
    "# Preprc the outputs\n",
    "y_train = preproc_y(y_train)\n",
    "y_test = preproc_y(y_test)"
   ]
  },
  {
   "cell_type": "code",
   "execution_count": 6,
   "metadata": {},
   "outputs": [
    {
     "name": "stdout",
     "output_type": "stream",
     "text": [
      "Model: \"model_1\"\n",
      "_________________________________________________________________\n",
      "Layer (type)                 Output Shape              Param #   \n",
      "=================================================================\n",
      "input_1 (InputLayer)         (None, 3072)              0         \n",
      "_________________________________________________________________\n",
      "hidden_layer1 (Dense)        (None, 512)               1573376   \n",
      "_________________________________________________________________\n",
      "hidden_layer2 (Dense)        (None, 256)               131328    \n",
      "_________________________________________________________________\n",
      "hidden_layer3 (Dense)        (None, 128)               32896     \n",
      "_________________________________________________________________\n",
      "hidden_layer4 (Dense)        (None, 128)               16512     \n",
      "_________________________________________________________________\n",
      "hidden_layer5 (Dense)        (None, 128)               16512     \n",
      "_________________________________________________________________\n",
      "output (Dense)               (None, 10)                1290      \n",
      "=================================================================\n",
      "Total params: 1,771,914\n",
      "Trainable params: 1,771,914\n",
      "Non-trainable params: 0\n",
      "_________________________________________________________________\n"
     ]
    }
   ],
   "source": [
    "\"\"\"Code Here\n",
    "建立你的神經網路\n",
    "\"\"\"\n",
    "def build_mlp(input_shape, output_units=10, num_neurons=[512, 256, 128, 128, 128]):\n",
    "    input_layer = keras.layers.Input(input_shape)\n",
    "    \n",
    "    for i, n_units in enumerate(num_neurons):\n",
    "        if i == 0:\n",
    "            x = keras.layers.Dense(units=n_units, activation=\"relu\", name=\"hidden_layer\"+str(i+1))(input_layer)\n",
    "        else:\n",
    "            x = keras.layers.Dense(units=n_units, activation=\"relu\", name=\"hidden_layer\"+str(i+1))(x)\n",
    "    \n",
    "    out = keras.layers.Dense(units=output_units, activation=\"softmax\", name=\"output\")(x)\n",
    "    \n",
    "    model = keras.models.Model(inputs=[input_layer], outputs=[out])\n",
    "    return model\n",
    "\n",
    "model = build_mlp(input_shape=x_train.shape[1:])\n",
    "model.summary()"
   ]
  },
  {
   "cell_type": "code",
   "execution_count": 7,
   "metadata": {},
   "outputs": [],
   "source": [
    "## 超參數設定\n",
    "LEARNING_RATE = 0.001\n",
    "EPOCHS = 20\n",
    "BATCH_SIZE = 256"
   ]
  },
  {
   "cell_type": "code",
   "execution_count": 8,
   "metadata": {},
   "outputs": [],
   "source": [
    "optimizer = keras.optimizers.Adam(lr=LEARNING_RATE)\n",
    "model.compile(loss=\"categorical_crossentropy\", metrics=[\"accuracy\"], optimizer=optimizer)"
   ]
  },
  {
   "cell_type": "code",
   "execution_count": 9,
   "metadata": {},
   "outputs": [
    {
     "name": "stdout",
     "output_type": "stream",
     "text": [
      "Train on 50000 samples, validate on 10000 samples\n",
      "Epoch 1/20\n",
      "50000/50000 [==============================] - 11s 228us/step - loss: 1.6967 - accuracy: 0.3952 - val_loss: 1.5591 - val_accuracy: 0.4520\n",
      "Epoch 2/20\n",
      "50000/50000 [==============================] - 7s 145us/step - loss: 1.4677 - accuracy: 0.4781 - val_loss: 1.4660 - val_accuracy: 0.4762\n",
      "Epoch 3/20\n",
      "50000/50000 [==============================] - 6s 126us/step - loss: 1.3535 - accuracy: 0.5232 - val_loss: 1.3969 - val_accuracy: 0.5083\n",
      "Epoch 4/20\n",
      "50000/50000 [==============================] - 6s 120us/step - loss: 1.2582 - accuracy: 0.5561 - val_loss: 1.3998 - val_accuracy: 0.5059\n",
      "Epoch 5/20\n",
      "50000/50000 [==============================] - 6s 130us/step - loss: 1.1716 - accuracy: 0.5885 - val_loss: 1.3483 - val_accuracy: 0.5291\n",
      "Epoch 6/20\n",
      "50000/50000 [==============================] - 6s 126us/step - loss: 1.0933 - accuracy: 0.6143 - val_loss: 1.3574 - val_accuracy: 0.5346\n",
      "Epoch 7/20\n",
      "50000/50000 [==============================] - 6s 125us/step - loss: 1.0193 - accuracy: 0.6375 - val_loss: 1.3676 - val_accuracy: 0.5309\n",
      "Epoch 8/20\n",
      "50000/50000 [==============================] - 6s 124us/step - loss: 0.9535 - accuracy: 0.6616 - val_loss: 1.4017 - val_accuracy: 0.5355\n",
      "Epoch 9/20\n",
      "50000/50000 [==============================] - 6s 117us/step - loss: 0.8879 - accuracy: 0.6841 - val_loss: 1.4211 - val_accuracy: 0.5356\n",
      "Epoch 10/20\n",
      "50000/50000 [==============================] - 6s 124us/step - loss: 0.8169 - accuracy: 0.7072 - val_loss: 1.4723 - val_accuracy: 0.5346\n",
      "Epoch 11/20\n",
      "50000/50000 [==============================] - 6s 124us/step - loss: 0.7546 - accuracy: 0.7304 - val_loss: 1.5325 - val_accuracy: 0.5303\n",
      "Epoch 12/20\n",
      "50000/50000 [==============================] - 6s 125us/step - loss: 0.6957 - accuracy: 0.7518 - val_loss: 1.6142 - val_accuracy: 0.5313\n",
      "Epoch 13/20\n",
      "50000/50000 [==============================] - 6s 120us/step - loss: 0.6290 - accuracy: 0.7769 - val_loss: 1.6708 - val_accuracy: 0.5292\n",
      "Epoch 14/20\n",
      "50000/50000 [==============================] - 6s 114us/step - loss: 0.5812 - accuracy: 0.7938 - val_loss: 1.7482 - val_accuracy: 0.5269\n",
      "Epoch 15/20\n",
      "50000/50000 [==============================] - 6s 125us/step - loss: 0.5282 - accuracy: 0.8114 - val_loss: 1.7829 - val_accuracy: 0.5342\n",
      "Epoch 16/20\n",
      "50000/50000 [==============================] - 6s 117us/step - loss: 0.4959 - accuracy: 0.8228 - val_loss: 1.8832 - val_accuracy: 0.5304\n",
      "Epoch 17/20\n",
      "50000/50000 [==============================] - 6s 115us/step - loss: 0.4512 - accuracy: 0.8406 - val_loss: 1.9879 - val_accuracy: 0.5251\n",
      "Epoch 18/20\n",
      "50000/50000 [==============================] - 6s 114us/step - loss: 0.4132 - accuracy: 0.8528 - val_loss: 2.1299 - val_accuracy: 0.5339\n",
      "Epoch 19/20\n",
      "50000/50000 [==============================] - 6s 113us/step - loss: 0.3828 - accuracy: 0.8650 - val_loss: 2.1941 - val_accuracy: 0.5109\n",
      "Epoch 20/20\n",
      "50000/50000 [==============================] - 6s 115us/step - loss: 0.3653 - accuracy: 0.8703 - val_loss: 2.1998 - val_accuracy: 0.5297\n"
     ]
    },
    {
     "data": {
      "text/plain": [
       "<keras.callbacks.callbacks.History at 0x64357f080>"
      ]
     },
     "execution_count": 9,
     "metadata": {},
     "output_type": "execute_result"
    }
   ],
   "source": [
    "model.fit(x_train, y_train, \n",
    "          epochs=EPOCHS, \n",
    "          batch_size=BATCH_SIZE, \n",
    "          validation_data=(x_test, y_test), \n",
    "          shuffle=True)"
   ]
  },
  {
   "cell_type": "code",
   "execution_count": 11,
   "metadata": {},
   "outputs": [
    {
     "data": {
      "image/png": "[encoded data removed]",
      "text/plain": [
       "<Figure size 432x288 with 1 Axes>"
      ]
     },
     "metadata": {
      "needs_background": "light"
     },
     "output_type": "display_data"
    },
    {
     "data": {
      "image/png": "[encoded data removed]",
      "text/plain": [
       "<Figure size 432x288 with 1 Axes>"
      ]
     },
     "metadata": {
      "needs_background": "light"
     },
     "output_type": "display_data"
    }
   ],
   "source": [
    "import matplotlib.pyplot as plt\n",
    "\n",
    "\n",
    "train_loss = model.history.history[\"loss\"]\n",
    "valid_loss = model.history.history[\"val_loss\"]\n",
    "\n",
    "train_acc = model.history.history[\"accuracy\"]\n",
    "valid_acc = model.history.history[\"val_accuracy\"]\n",
    "\n",
    "plt.plot(range(len(train_loss)), train_loss, label=\"train loss\")\n",
    "plt.plot(range(len(valid_loss)), valid_loss, label=\"valid loss\")\n",
    "plt.legend()\n",
    "plt.title(\"Loss\")\n",
    "plt.show()\n",
    "\n",
    "plt.plot(range(len(train_acc)), train_acc, label=\"train accuracy\")\n",
    "plt.plot(range(len(valid_acc)), valid_acc, label=\"valid accuracy\")\n",
    "plt.legend()\n",
    "plt.title(\"Accuracy\")\n",
    "plt.show()"
   ]
  },
  {
   "cell_type": "code",
   "execution_count": null,
   "metadata": {},
   "outputs": [],
   "source": []
  }
 ],
 "metadata": {
  "kernelspec": {
   "display_name": "Python 3",
   "language": "python",
   "name": "python3"
  },
  "language_info": {
   "codemirror_mode": {
    "name": "ipython",
    "version": 3
   },
   "file_extension": ".py",
   "mimetype": "text/x-python",
   "name": "python",
   "nbconvert_exporter": "python",
   "pygments_lexer": "ipython3",
   "version": "3.7.3"
  }
 },
 "nbformat": 4,
 "nbformat_minor": 2
}
