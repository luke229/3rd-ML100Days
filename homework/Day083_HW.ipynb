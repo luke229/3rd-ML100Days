{
 "cells": [
  {
   "cell_type": "markdown",
   "metadata": {},
   "source": [
    "## Work\n",
    "1. 試比較有 BN 在 Batch_size = 2, 16, 32, 128, 256 下的差異\n",
    "2. 請嘗試將 BN 放在 Activation 之前，並比較訓練結果\n",
    "3. 請於 BN 放在 Input Layer 後，並比較結果"
   ]
  },
  {
   "cell_type": "code",
   "execution_count": 1,
   "metadata": {},
   "outputs": [
    {
     "name": "stderr",
     "output_type": "stream",
     "text": [
      "Using TensorFlow backend.\n"
     ]
    }
   ],
   "source": [
    "import os\n",
    "import keras\n",
    "import itertools\n",
    "# Disable GPU\n",
    "os.environ[\"CUDA_VISIBLE_DEVICES\"] = \"\""
   ]
  },
  {
   "cell_type": "code",
   "execution_count": 2,
   "metadata": {},
   "outputs": [],
   "source": [
    "train, test = keras.datasets.cifar10.load_data()"
   ]
  },
  {
   "cell_type": "code",
   "execution_count": 3,
   "metadata": {},
   "outputs": [],
   "source": [
    "## 資料前處理\n",
    "def preproc_x(x, flatten=True):\n",
    "    x = x / 255.\n",
    "    if flatten:\n",
    "        x = x.reshape((len(x), -1))\n",
    "    return x\n",
    "\n",
    "def preproc_y(y, num_classes=10):\n",
    "    if y.shape[-1] == 1:\n",
    "        y = keras.utils.to_categorical(y, num_classes)\n",
    "    return y    "
   ]
  },
  {
   "cell_type": "code",
   "execution_count": 4,
   "metadata": {},
   "outputs": [],
   "source": [
    "x_train, y_train = train\n",
    "x_test, y_test = test\n",
    "\n",
    "# Preproc the inputs\n",
    "x_train = preproc_x(x_train)\n",
    "x_test = preproc_x(x_test)\n",
    "\n",
    "# Preprc the outputs\n",
    "y_train = preproc_y(y_train)\n",
    "y_test = preproc_y(y_test)"
   ]
  },
  {
   "cell_type": "code",
   "execution_count": 5,
   "metadata": {},
   "outputs": [],
   "source": [
    "from keras.layers import BatchNormalization\n",
    "\n",
    "\n",
    "def build_mlp(input_shape, output_units=10, num_neurons=[512, 256, 128]):\n",
    "    input_layer = keras.layers.Input(input_shape)\n",
    "    \n",
    "    for i, n_units in enumerate(num_neurons):\n",
    "        if i == 0:\n",
    "            x = keras.layers.Dense(units=n_units, \n",
    "                                   activation=\"relu\", \n",
    "                                   name=\"hidden_layer\"+str(i+1))(input_layer)\n",
    "            x = BatchNormalization()(x)\n",
    "        else:\n",
    "            x = keras.layers.Dense(units=n_units, \n",
    "                                   activation=\"relu\", \n",
    "                                   name=\"hidden_layer\"+str(i+1))(x)\n",
    "            x = BatchNormalization()(x)\n",
    "    \n",
    "    out = keras.layers.Dense(units=output_units, activation=\"softmax\", name=\"output\")(x)\n",
    "    \n",
    "    model = keras.models.Model(inputs=[input_layer], outputs=[out])\n",
    "    return model"
   ]
  },
  {
   "cell_type": "code",
   "execution_count": 6,
   "metadata": {},
   "outputs": [],
   "source": [
    "LEARNING_RATE = 1e-3\n",
    "EPOCHS = 50\n",
    "BATCH_SIZE = 1024\n",
    "MOMENTUM = 0.95"
   ]
  },
  {
   "cell_type": "code",
   "execution_count": 7,
   "metadata": {
    "scrolled": true
   },
   "outputs": [
    {
     "name": "stdout",
     "output_type": "stream",
     "text": [
      "Model: \"model_1\"\n",
      "_________________________________________________________________\n",
      "Layer (type)                 Output Shape              Param #   \n",
      "=================================================================\n",
      "input_1 (InputLayer)         (None, 3072)              0         \n",
      "_________________________________________________________________\n",
      "hidden_layer1 (Dense)        (None, 512)               1573376   \n",
      "_________________________________________________________________\n",
      "batch_normalization_1 (Batch (None, 512)               2048      \n",
      "_________________________________________________________________\n",
      "hidden_layer2 (Dense)        (None, 256)               131328    \n",
      "_________________________________________________________________\n",
      "batch_normalization_2 (Batch (None, 256)               1024      \n",
      "_________________________________________________________________\n",
      "hidden_layer3 (Dense)        (None, 128)               32896     \n",
      "_________________________________________________________________\n",
      "batch_normalization_3 (Batch (None, 128)               512       \n",
      "_________________________________________________________________\n",
      "output (Dense)               (None, 10)                1290      \n",
      "=================================================================\n",
      "Total params: 1,742,474\n",
      "Trainable params: 1,740,682\n",
      "Non-trainable params: 1,792\n",
      "_________________________________________________________________\n",
      "Train on 50000 samples, validate on 10000 samples\n",
      "Epoch 1/50\n",
      "50000/50000 [==============================] - 4s 90us/step - loss: 2.2214 - accuracy: 0.2650 - val_loss: 2.1223 - val_accuracy: 0.1862\n",
      "Epoch 2/50\n",
      "50000/50000 [==============================] - 4s 78us/step - loss: 1.7468 - accuracy: 0.3914 - val_loss: 1.9480 - val_accuracy: 0.3028\n",
      "Epoch 3/50\n",
      "50000/50000 [==============================] - 4s 83us/step - loss: 1.6220 - accuracy: 0.4331 - val_loss: 1.8188 - val_accuracy: 0.3626\n",
      "Epoch 4/50\n",
      "50000/50000 [==============================] - 5s 90us/step - loss: 1.5493 - accuracy: 0.4580 - val_loss: 1.7160 - val_accuracy: 0.4065\n",
      "Epoch 5/50\n",
      "50000/50000 [==============================] - 5s 98us/step - loss: 1.4953 - accuracy: 0.4759 - val_loss: 1.6420 - val_accuracy: 0.4302\n",
      "Epoch 6/50\n",
      "50000/50000 [==============================] - 4s 89us/step - loss: 1.4504 - accuracy: 0.4931 - val_loss: 1.6029 - val_accuracy: 0.4420\n",
      "Epoch 7/50\n",
      "50000/50000 [==============================] - 5s 94us/step - loss: 1.4119 - accuracy: 0.5076 - val_loss: 1.5622 - val_accuracy: 0.4538\n",
      "Epoch 8/50\n",
      "50000/50000 [==============================] - 5s 95us/step - loss: 1.3740 - accuracy: 0.5222 - val_loss: 1.5526 - val_accuracy: 0.4538\n",
      "Epoch 9/50\n",
      "50000/50000 [==============================] - 5s 94us/step - loss: 1.3407 - accuracy: 0.5337 - val_loss: 1.5160 - val_accuracy: 0.4614\n",
      "Epoch 10/50\n",
      "50000/50000 [==============================] - 5s 96us/step - loss: 1.3097 - accuracy: 0.5451 - val_loss: 1.5077 - val_accuracy: 0.4662\n",
      "Epoch 11/50\n",
      "50000/50000 [==============================] - 5s 95us/step - loss: 1.2815 - accuracy: 0.5548 - val_loss: 1.4862 - val_accuracy: 0.4745\n",
      "Epoch 12/50\n",
      "50000/50000 [==============================] - 5s 97us/step - loss: 1.2546 - accuracy: 0.5657 - val_loss: 1.4902 - val_accuracy: 0.4747\n",
      "Epoch 13/50\n",
      "50000/50000 [==============================] - 5s 95us/step - loss: 1.2284 - accuracy: 0.5750 - val_loss: 1.4743 - val_accuracy: 0.4821\n",
      "Epoch 14/50\n",
      "50000/50000 [==============================] - 5s 96us/step - loss: 1.2024 - accuracy: 0.5824 - val_loss: 1.4694 - val_accuracy: 0.4815\n",
      "Epoch 15/50\n",
      "50000/50000 [==============================] - 5s 94us/step - loss: 1.1792 - accuracy: 0.5934 - val_loss: 1.4691 - val_accuracy: 0.4855\n",
      "Epoch 16/50\n",
      "50000/50000 [==============================] - 5s 91us/step - loss: 1.1549 - accuracy: 0.6017 - val_loss: 1.4760 - val_accuracy: 0.4887\n",
      "Epoch 17/50\n",
      "50000/50000 [==============================] - 5s 93us/step - loss: 1.1308 - accuracy: 0.6086 - val_loss: 1.4557 - val_accuracy: 0.4897\n",
      "Epoch 18/50\n",
      "50000/50000 [==============================] - 5s 92us/step - loss: 1.1091 - accuracy: 0.6180 - val_loss: 1.4667 - val_accuracy: 0.4868\n",
      "Epoch 19/50\n",
      "50000/50000 [==============================] - 5s 91us/step - loss: 1.0878 - accuracy: 0.6252 - val_loss: 1.4657 - val_accuracy: 0.4939\n",
      "Epoch 20/50\n",
      "50000/50000 [==============================] - 5s 92us/step - loss: 1.0637 - accuracy: 0.6361 - val_loss: 1.4649 - val_accuracy: 0.4937\n",
      "Epoch 21/50\n",
      "50000/50000 [==============================] - 5s 91us/step - loss: 1.0424 - accuracy: 0.6440 - val_loss: 1.4616 - val_accuracy: 0.4942\n",
      "Epoch 22/50\n",
      "50000/50000 [==============================] - 4s 88us/step - loss: 1.0203 - accuracy: 0.6518 - val_loss: 1.4625 - val_accuracy: 0.4949\n",
      "Epoch 23/50\n",
      "50000/50000 [==============================] - 4s 89us/step - loss: 1.0008 - accuracy: 0.6609 - val_loss: 1.4620 - val_accuracy: 0.4974\n",
      "Epoch 24/50\n",
      "50000/50000 [==============================] - 4s 89us/step - loss: 0.9775 - accuracy: 0.6682 - val_loss: 1.4672 - val_accuracy: 0.4978\n",
      "Epoch 25/50\n",
      "50000/50000 [==============================] - 5s 91us/step - loss: 0.9560 - accuracy: 0.6798 - val_loss: 1.4850 - val_accuracy: 0.4924\n",
      "Epoch 26/50\n",
      "50000/50000 [==============================] - 5s 93us/step - loss: 0.9348 - accuracy: 0.6861 - val_loss: 1.4850 - val_accuracy: 0.4953\n",
      "Epoch 27/50\n",
      "50000/50000 [==============================] - 5s 91us/step - loss: 0.9154 - accuracy: 0.6919 - val_loss: 1.4869 - val_accuracy: 0.4962\n",
      "Epoch 28/50\n",
      "50000/50000 [==============================] - 4s 88us/step - loss: 0.8952 - accuracy: 0.7021 - val_loss: 1.4828 - val_accuracy: 0.4967\n",
      "Epoch 29/50\n",
      "50000/50000 [==============================] - 4s 89us/step - loss: 0.8745 - accuracy: 0.7104 - val_loss: 1.4858 - val_accuracy: 0.5014\n",
      "Epoch 30/50\n",
      "50000/50000 [==============================] - 4s 88us/step - loss: 0.8571 - accuracy: 0.7144 - val_loss: 1.5083 - val_accuracy: 0.4909\n",
      "Epoch 31/50\n",
      "50000/50000 [==============================] - 5s 91us/step - loss: 0.8352 - accuracy: 0.7244 - val_loss: 1.4976 - val_accuracy: 0.4933\n",
      "Epoch 32/50\n",
      "50000/50000 [==============================] - 5s 105us/step - loss: 0.8166 - accuracy: 0.7318 - val_loss: 1.4983 - val_accuracy: 0.4994\n",
      "Epoch 33/50\n",
      "50000/50000 [==============================] - 6s 113us/step - loss: 0.7962 - accuracy: 0.7411 - val_loss: 1.5103 - val_accuracy: 0.4972\n",
      "Epoch 34/50\n",
      "50000/50000 [==============================] - 7s 141us/step - loss: 0.7761 - accuracy: 0.7489 - val_loss: 1.5271 - val_accuracy: 0.4919\n",
      "Epoch 35/50\n",
      "50000/50000 [==============================] - 8s 152us/step - loss: 0.7574 - accuracy: 0.7573 - val_loss: 1.5281 - val_accuracy: 0.4965\n",
      "Epoch 36/50\n",
      "50000/50000 [==============================] - 8s 164us/step - loss: 0.7398 - accuracy: 0.7630 - val_loss: 1.5400 - val_accuracy: 0.4934\n",
      "Epoch 37/50\n",
      "50000/50000 [==============================] - 8s 161us/step - loss: 0.7196 - accuracy: 0.7721 - val_loss: 1.5398 - val_accuracy: 0.5002\n",
      "Epoch 38/50\n",
      "50000/50000 [==============================] - 8s 155us/step - loss: 0.6996 - accuracy: 0.7801 - val_loss: 1.5721 - val_accuracy: 0.4894\n",
      "Epoch 39/50\n",
      "50000/50000 [==============================] - 8s 154us/step - loss: 0.6817 - accuracy: 0.7869 - val_loss: 1.5645 - val_accuracy: 0.4916\n",
      "Epoch 40/50\n",
      "50000/50000 [==============================] - 8s 152us/step - loss: 0.6627 - accuracy: 0.7959 - val_loss: 1.5806 - val_accuracy: 0.4957\n",
      "Epoch 41/50\n",
      "50000/50000 [==============================] - 7s 148us/step - loss: 0.6443 - accuracy: 0.8029 - val_loss: 1.5885 - val_accuracy: 0.4934\n",
      "Epoch 42/50\n",
      "50000/50000 [==============================] - 7s 144us/step - loss: 0.6259 - accuracy: 0.8089 - val_loss: 1.5994 - val_accuracy: 0.4857\n",
      "Epoch 43/50\n",
      "50000/50000 [==============================] - 7s 146us/step - loss: 0.6096 - accuracy: 0.8157 - val_loss: 1.6116 - val_accuracy: 0.4956\n",
      "Epoch 44/50\n",
      "50000/50000 [==============================] - 7s 148us/step - loss: 0.5906 - accuracy: 0.8251 - val_loss: 1.6258 - val_accuracy: 0.4911\n",
      "Epoch 45/50\n",
      "50000/50000 [==============================] - 7s 150us/step - loss: 0.5746 - accuracy: 0.8296 - val_loss: 1.6355 - val_accuracy: 0.4860\n",
      "Epoch 46/50\n"
     ]
    },
    {
     "name": "stdout",
     "output_type": "stream",
     "text": [
      "50000/50000 [==============================] - 8s 151us/step - loss: 0.5546 - accuracy: 0.8376 - val_loss: 1.6278 - val_accuracy: 0.4933\n",
      "Epoch 47/50\n",
      "50000/50000 [==============================] - 7s 143us/step - loss: 0.5394 - accuracy: 0.8414 - val_loss: 1.6481 - val_accuracy: 0.4891\n",
      "Epoch 48/50\n",
      "50000/50000 [==============================] - 8s 162us/step - loss: 0.5211 - accuracy: 0.8492 - val_loss: 1.6796 - val_accuracy: 0.4858\n",
      "Epoch 49/50\n",
      "50000/50000 [==============================] - 7s 144us/step - loss: 0.5042 - accuracy: 0.8574 - val_loss: 1.6879 - val_accuracy: 0.4868\n",
      "Epoch 50/50\n",
      "50000/50000 [==============================] - 7s 147us/step - loss: 0.4889 - accuracy: 0.8626 - val_loss: 1.6788 - val_accuracy: 0.4927\n"
     ]
    }
   ],
   "source": [
    "model = build_mlp(input_shape=x_train.shape[1:])\n",
    "model.summary()\n",
    "optimizer = keras.optimizers.SGD(lr=LEARNING_RATE, nesterov=True, momentum=MOMENTUM)\n",
    "model.compile(loss=\"categorical_crossentropy\", metrics=[\"accuracy\"], optimizer=optimizer)\n",
    "\n",
    "model.fit(x_train, y_train, \n",
    "          epochs=EPOCHS, \n",
    "          batch_size=BATCH_SIZE, \n",
    "          validation_data=(x_test, y_test), \n",
    "          shuffle=True)\n",
    "\n",
    "# Collect results\n",
    "train_loss = model.history.history[\"loss\"]\n",
    "valid_loss = model.history.history[\"val_loss\"]\n",
    "train_acc = model.history.history[\"accuracy\"]\n",
    "valid_acc = model.history.history[\"val_accuracy\"]"
   ]
  },
  {
   "cell_type": "code",
   "execution_count": 8,
   "metadata": {},
   "outputs": [
    {
     "data": {
      "image/png": "[encoded data removed]",
      "text/plain": [
       "<Figure size 432x288 with 1 Axes>"
      ]
     },
     "metadata": {
      "needs_background": "light"
     },
     "output_type": "display_data"
    },
    {
     "data": {
      "image/png": "[encoded data removed]",
      "text/plain": [
       "<Figure size 432x288 with 1 Axes>"
      ]
     },
     "metadata": {
      "needs_background": "light"
     },
     "output_type": "display_data"
    }
   ],
   "source": [
    "import matplotlib.pyplot as plt\n",
    "%matplotlib inline\n",
    "\n",
    "plt.plot(range(len(train_loss)), train_loss, label=\"train loss\")\n",
    "plt.plot(range(len(valid_loss)), valid_loss, label=\"valid loss\")\n",
    "plt.legend()\n",
    "plt.title(\"Loss\")\n",
    "plt.show()\n",
    "\n",
    "plt.plot(range(len(train_acc)), train_acc, label=\"train accuracy\")\n",
    "plt.plot(range(len(valid_acc)), valid_acc, label=\"valid accuracy\")\n",
    "plt.legend()\n",
    "plt.title(\"Accuracy\")\n",
    "plt.show()"
   ]
  }
 ],
 "metadata": {
  "kernelspec": {
   "display_name": "Python 3",
   "language": "python",
   "name": "python3"
  },
  "language_info": {
   "codemirror_mode": {
    "name": "ipython",
    "version": 3
   },
   "file_extension": ".py",
   "mimetype": "text/x-python",
   "name": "python",
   "nbconvert_exporter": "python",
   "pygments_lexer": "ipython3",
   "version": "3.7.3"
  }
 },
 "nbformat": 4,
 "nbformat_minor": 2
}
