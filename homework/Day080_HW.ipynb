{
 "cells": [
  {
   "cell_type": "markdown",
   "metadata": {},
   "source": [
    "# 請結合前面的知識與程式碼，比較不同的 optimizer 與 learning rate 組合對訓練的結果與影響\n",
    "### 常見的 optimizer 包含\n",
    "* SGD\n",
    "* RMSprop\n",
    "* AdaGrad\n",
    "* Adam"
   ]
  },
  {
   "cell_type": "code",
   "execution_count": 12,
   "metadata": {},
   "outputs": [],
   "source": [
    "import os\n",
    "import keras\n",
    "\n",
    "# Disable GPU\n",
    "os.environ[\"CUDA_VISIBLE_DEVICES\"] = \"\""
   ]
  },
  {
   "cell_type": "code",
   "execution_count": 13,
   "metadata": {},
   "outputs": [],
   "source": [
    "train, test = keras.datasets.cifar10.load_data()"
   ]
  },
  {
   "cell_type": "code",
   "execution_count": 14,
   "metadata": {},
   "outputs": [],
   "source": [
    "## 資料前處理\n",
    "def preproc_x(x, flatten=True):\n",
    "    x = x / 255.\n",
    "    if flatten:\n",
    "        x = x.reshape((len(x), -1))\n",
    "    return x\n",
    "\n",
    "def preproc_y(y, num_classes=10):\n",
    "    if y.shape[-1] == 1:\n",
    "        y = keras.utils.to_categorical(y, num_classes)\n",
    "    return y    "
   ]
  },
  {
   "cell_type": "code",
   "execution_count": 15,
   "metadata": {},
   "outputs": [],
   "source": [
    "x_train, y_train = train\n",
    "x_test, y_test = test\n",
    "\n",
    "# Preproc the inputs\n",
    "x_train = preproc_x(x_train)\n",
    "x_test = preproc_x(x_test)\n",
    "\n",
    "# Preprc the outputs\n",
    "y_train = preproc_y(y_train)\n",
    "y_test = preproc_y(y_test)"
   ]
  },
  {
   "cell_type": "code",
   "execution_count": 16,
   "metadata": {},
   "outputs": [],
   "source": [
    "def build_mlp(input_shape, output_units=10, num_neurons=[512, 256, 128]):\n",
    "    input_layer = keras.layers.Input(input_shape)\n",
    "    \n",
    "    for i, n_units in enumerate(num_neurons):\n",
    "        if i == 0:\n",
    "            x = keras.layers.Dense(units=n_units, activation=\"relu\", name=\"hidden_layer\"+str(i+1))(input_layer)\n",
    "        else:\n",
    "            x = keras.layers.Dense(units=n_units, activation=\"relu\", name=\"hidden_layer\"+str(i+1))(x)\n",
    "    \n",
    "    out = keras.layers.Dense(units=output_units, activation=\"softmax\", name=\"output\")(x)\n",
    "    \n",
    "    model = keras.models.Model(inputs=[input_layer], outputs=[out])\n",
    "    return model"
   ]
  },
  {
   "cell_type": "code",
   "execution_count": 17,
   "metadata": {},
   "outputs": [],
   "source": [
    "## 超參數設定\n",
    "\"\"\"\n",
    "Set your required experiment parameters\n",
    "\"\"\"\n",
    "LEARNING_RATE = 1e-3\n",
    "EPOCHS = 50\n",
    "BATCH_SIZE = 256\n",
    "MOMENTUM = 0.95"
   ]
  },
  {
   "cell_type": "code",
   "execution_count": 18,
   "metadata": {
    "scrolled": true
   },
   "outputs": [
    {
     "name": "stdout",
     "output_type": "stream",
     "text": [
      "Model: \"model_1\"\n",
      "_________________________________________________________________\n",
      "Layer (type)                 Output Shape              Param #   \n",
      "=================================================================\n",
      "input_1 (InputLayer)         (None, 3072)              0         \n",
      "_________________________________________________________________\n",
      "hidden_layer1 (Dense)        (None, 512)               1573376   \n",
      "_________________________________________________________________\n",
      "hidden_layer2 (Dense)        (None, 256)               131328    \n",
      "_________________________________________________________________\n",
      "hidden_layer3 (Dense)        (None, 128)               32896     \n",
      "_________________________________________________________________\n",
      "output (Dense)               (None, 10)                1290      \n",
      "=================================================================\n",
      "Total params: 1,738,890\n",
      "Trainable params: 1,738,890\n",
      "Non-trainable params: 0\n",
      "_________________________________________________________________\n",
      "Train on 50000 samples, validate on 10000 samples\n",
      "Epoch 1/50\n",
      "50000/50000 [==============================] - 13s 257us/step - loss: 2.0261 - accuracy: 0.2783 - val_loss: 1.8518 - val_accuracy: 0.3538\n",
      "Epoch 2/50\n",
      "50000/50000 [==============================] - 12s 235us/step - loss: 1.8004 - accuracy: 0.3694 - val_loss: 1.7538 - val_accuracy: 0.3947\n",
      "Epoch 3/50\n",
      "50000/50000 [==============================] - 9s 182us/step - loss: 1.7168 - accuracy: 0.3991 - val_loss: 1.6927 - val_accuracy: 0.4091\n",
      "Epoch 4/50\n",
      "50000/50000 [==============================] - 11s 215us/step - loss: 1.6588 - accuracy: 0.4203 - val_loss: 1.6440 - val_accuracy: 0.4240\n",
      "Epoch 5/50\n",
      "50000/50000 [==============================] - 13s 250us/step - loss: 1.6130 - accuracy: 0.4339 - val_loss: 1.5983 - val_accuracy: 0.4468\n",
      "Epoch 6/50\n",
      "50000/50000 [==============================] - 12s 241us/step - loss: 1.5750 - accuracy: 0.4493 - val_loss: 1.5669 - val_accuracy: 0.4508\n",
      "Epoch 7/50\n",
      "50000/50000 [==============================] - 12s 242us/step - loss: 1.5416 - accuracy: 0.4609 - val_loss: 1.5389 - val_accuracy: 0.4612\n",
      "Epoch 8/50\n",
      "50000/50000 [==============================] - 13s 251us/step - loss: 1.5135 - accuracy: 0.4696 - val_loss: 1.5379 - val_accuracy: 0.4629\n",
      "Epoch 9/50\n",
      "50000/50000 [==============================] - 13s 251us/step - loss: 1.4877 - accuracy: 0.4788 - val_loss: 1.5283 - val_accuracy: 0.4644\n",
      "Epoch 10/50\n",
      "50000/50000 [==============================] - 12s 237us/step - loss: 1.4617 - accuracy: 0.4904 - val_loss: 1.4957 - val_accuracy: 0.4725\n",
      "Epoch 11/50\n",
      "50000/50000 [==============================] - 12s 239us/step - loss: 1.4385 - accuracy: 0.4953 - val_loss: 1.4667 - val_accuracy: 0.4863\n",
      "Epoch 12/50\n",
      "50000/50000 [==============================] - 11s 228us/step - loss: 1.4171 - accuracy: 0.5045 - val_loss: 1.4692 - val_accuracy: 0.4785\n",
      "Epoch 13/50\n",
      "50000/50000 [==============================] - 12s 237us/step - loss: 1.3959 - accuracy: 0.5105 - val_loss: 1.4435 - val_accuracy: 0.4943\n",
      "Epoch 14/50\n",
      "50000/50000 [==============================] - 12s 233us/step - loss: 1.3746 - accuracy: 0.5195 - val_loss: 1.4293 - val_accuracy: 0.4954\n",
      "Epoch 15/50\n",
      "50000/50000 [==============================] - 12s 243us/step - loss: 1.3558 - accuracy: 0.5250 - val_loss: 1.4319 - val_accuracy: 0.4973\n",
      "Epoch 16/50\n",
      "50000/50000 [==============================] - 12s 235us/step - loss: 1.3389 - accuracy: 0.5295 - val_loss: 1.4096 - val_accuracy: 0.5058\n",
      "Epoch 17/50\n",
      "50000/50000 [==============================] - 14s 270us/step - loss: 1.3191 - accuracy: 0.5376 - val_loss: 1.4397 - val_accuracy: 0.4855\n",
      "Epoch 18/50\n",
      "50000/50000 [==============================] - 13s 258us/step - loss: 1.3028 - accuracy: 0.5415 - val_loss: 1.4041 - val_accuracy: 0.5043\n",
      "Epoch 19/50\n",
      "50000/50000 [==============================] - 13s 254us/step - loss: 1.2864 - accuracy: 0.5497 - val_loss: 1.4211 - val_accuracy: 0.4938\n",
      "Epoch 20/50\n",
      "50000/50000 [==============================] - 13s 261us/step - loss: 1.2696 - accuracy: 0.5545 - val_loss: 1.3918 - val_accuracy: 0.5096\n",
      "Epoch 21/50\n",
      "50000/50000 [==============================] - 12s 249us/step - loss: 1.2523 - accuracy: 0.5619 - val_loss: 1.3880 - val_accuracy: 0.5063\n",
      "Epoch 22/50\n",
      "50000/50000 [==============================] - 12s 241us/step - loss: 1.2378 - accuracy: 0.5657 - val_loss: 1.3745 - val_accuracy: 0.5156\n",
      "Epoch 23/50\n",
      "50000/50000 [==============================] - 12s 243us/step - loss: 1.2217 - accuracy: 0.5725 - val_loss: 1.3555 - val_accuracy: 0.5161\n",
      "Epoch 24/50\n",
      "50000/50000 [==============================] - 13s 254us/step - loss: 1.2098 - accuracy: 0.5761 - val_loss: 1.3731 - val_accuracy: 0.5163\n",
      "Epoch 25/50\n",
      "50000/50000 [==============================] - 13s 252us/step - loss: 1.1945 - accuracy: 0.5811 - val_loss: 1.3866 - val_accuracy: 0.5096\n",
      "Epoch 26/50\n",
      "50000/50000 [==============================] - 13s 254us/step - loss: 1.1795 - accuracy: 0.5856 - val_loss: 1.3878 - val_accuracy: 0.5054\n",
      "Epoch 27/50\n",
      "50000/50000 [==============================] - 13s 253us/step - loss: 1.1660 - accuracy: 0.5877 - val_loss: 1.3526 - val_accuracy: 0.5250\n",
      "Epoch 28/50\n",
      "50000/50000 [==============================] - 12s 249us/step - loss: 1.1527 - accuracy: 0.5943 - val_loss: 1.3848 - val_accuracy: 0.5133\n",
      "Epoch 29/50\n",
      "50000/50000 [==============================] - 13s 253us/step - loss: 1.1398 - accuracy: 0.5992 - val_loss: 1.3394 - val_accuracy: 0.5283\n",
      "Epoch 30/50\n",
      "50000/50000 [==============================] - 13s 264us/step - loss: 1.1275 - accuracy: 0.6022 - val_loss: 1.3440 - val_accuracy: 0.5229\n",
      "Epoch 31/50\n",
      "50000/50000 [==============================] - 13s 252us/step - loss: 1.1119 - accuracy: 0.6090 - val_loss: 1.3617 - val_accuracy: 0.5225\n",
      "Epoch 32/50\n",
      "50000/50000 [==============================] - 13s 251us/step - loss: 1.0976 - accuracy: 0.6135 - val_loss: 1.3394 - val_accuracy: 0.5342\n",
      "Epoch 33/50\n",
      "50000/50000 [==============================] - 12s 241us/step - loss: 1.0847 - accuracy: 0.6182 - val_loss: 1.3330 - val_accuracy: 0.5385\n",
      "Epoch 34/50\n",
      "50000/50000 [==============================] - 12s 250us/step - loss: 1.0757 - accuracy: 0.6211 - val_loss: 1.3475 - val_accuracy: 0.5315\n",
      "Epoch 35/50\n",
      "50000/50000 [==============================] - 12s 248us/step - loss: 1.0664 - accuracy: 0.6230 - val_loss: 1.3227 - val_accuracy: 0.5373\n",
      "Epoch 36/50\n",
      "50000/50000 [==============================] - 12s 246us/step - loss: 1.0502 - accuracy: 0.6290 - val_loss: 1.3372 - val_accuracy: 0.5321\n",
      "Epoch 37/50\n",
      "50000/50000 [==============================] - 12s 242us/step - loss: 1.0328 - accuracy: 0.6360 - val_loss: 1.3581 - val_accuracy: 0.5282\n",
      "Epoch 38/50\n",
      "50000/50000 [==============================] - 13s 251us/step - loss: 1.0251 - accuracy: 0.6397 - val_loss: 1.3561 - val_accuracy: 0.5252\n",
      "Epoch 39/50\n",
      "50000/50000 [==============================] - 13s 264us/step - loss: 1.0122 - accuracy: 0.6423 - val_loss: 1.3523 - val_accuracy: 0.5373\n",
      "Epoch 40/50\n",
      "50000/50000 [==============================] - 13s 252us/step - loss: 0.9979 - accuracy: 0.6465 - val_loss: 1.3984 - val_accuracy: 0.5150\n",
      "Epoch 41/50\n",
      "50000/50000 [==============================] - 13s 258us/step - loss: 0.9858 - accuracy: 0.6525 - val_loss: 1.3751 - val_accuracy: 0.5280\n",
      "Epoch 42/50\n",
      "50000/50000 [==============================] - 13s 258us/step - loss: 0.9740 - accuracy: 0.6565 - val_loss: 1.3918 - val_accuracy: 0.5248\n",
      "Epoch 43/50\n",
      "50000/50000 [==============================] - 12s 245us/step - loss: 0.9632 - accuracy: 0.6601 - val_loss: 1.4503 - val_accuracy: 0.5118\n",
      "Epoch 44/50\n",
      "50000/50000 [==============================] - 12s 243us/step - loss: 0.9503 - accuracy: 0.6667 - val_loss: 1.3895 - val_accuracy: 0.5291\n",
      "Epoch 45/50\n",
      "50000/50000 [==============================] - 12s 241us/step - loss: 0.9379 - accuracy: 0.6696 - val_loss: 1.3676 - val_accuracy: 0.5371\n",
      "Epoch 46/50\n",
      "50000/50000 [==============================] - 12s 244us/step - loss: 0.9272 - accuracy: 0.6724 - val_loss: 1.5129 - val_accuracy: 0.4939\n",
      "Epoch 47/50\n",
      "50000/50000 [==============================] - 12s 232us/step - loss: 0.9134 - accuracy: 0.6799 - val_loss: 1.3574 - val_accuracy: 0.5398\n",
      "Epoch 48/50\n"
     ]
    },
    {
     "name": "stdout",
     "output_type": "stream",
     "text": [
      "50000/50000 [==============================] - 13s 255us/step - loss: 0.8973 - accuracy: 0.6867 - val_loss: 1.4157 - val_accuracy: 0.5255\n",
      "Epoch 49/50\n",
      "50000/50000 [==============================] - 12s 245us/step - loss: 0.8876 - accuracy: 0.6872 - val_loss: 1.3869 - val_accuracy: 0.5373\n",
      "Epoch 50/50\n",
      "50000/50000 [==============================] - 13s 259us/step - loss: 0.8746 - accuracy: 0.6927 - val_loss: 1.4949 - val_accuracy: 0.5150\n"
     ]
    }
   ],
   "source": [
    "\n",
    "keras.backend.clear_session() # 把舊的 Graph 清掉\n",
    "\n",
    "model = build_mlp(input_shape=x_train.shape[1:])\n",
    "model.summary()\n",
    "optimizer = keras.optimizers.SGD(lr=LEARNING_RATE, nesterov=True, momentum=MOMENTUM)\n",
    "model.compile(loss=\"categorical_crossentropy\", metrics=[\"accuracy\"], optimizer=optimizer)\n",
    "\n",
    "model.fit(x_train, y_train, \n",
    "          epochs=EPOCHS, \n",
    "          batch_size=BATCH_SIZE, \n",
    "          validation_data=(x_test, y_test), \n",
    "          shuffle=True)\n",
    "    \n",
    "    # Collect results\n",
    "train_loss = model.history.history[\"loss\"]\n",
    "valid_loss = model.history.history[\"val_loss\"]\n",
    "train_acc = model.history.history[\"accuracy\"]\n",
    "valid_acc = model.history.history[\"val_accuracy\"]\n",
    "    "
   ]
  },
  {
   "cell_type": "code",
   "execution_count": 19,
   "metadata": {},
   "outputs": [
    {
     "data": {
      "text/plain": [
       "[<matplotlib.lines.Line2D at 0x6449d9b70>]"
      ]
     },
     "execution_count": 19,
     "metadata": {},
     "output_type": "execute_result"
    },
    {
     "data": {
      "image/png": "[encoded data removed]",
      "text/plain": [
       "<Figure size 720x360 with 1 Axes>"
      ]
     },
     "metadata": {
      "needs_background": "light"
     },
     "output_type": "display_data"
    }
   ],
   "source": [
    "import matplotlib.pyplot as plt\n",
    "%matplotlib inline\n",
    "plt.subplots(figsize=(10,5))\n",
    "plt.plot(range(len(train_loss)),train_loss)#, '-', label=cond, color=color_bar[i])\n",
    "plt.plot(range(len(valid_loss)),valid_loss)\n",
    "#plt.plot(range(len(results[cond]['valid-loss'])),results[cond]['valid-loss'], '--', label=cond, color=color_bar[i]"
   ]
  }
 ],
 "metadata": {
  "kernelspec": {
   "display_name": "Python 3",
   "language": "python",
   "name": "python3"
  },
  "language_info": {
   "codemirror_mode": {
    "name": "ipython",
    "version": 3
   },
   "file_extension": ".py",
   "mimetype": "text/x-python",
   "name": "python",
   "nbconvert_exporter": "python",
   "pygments_lexer": "ipython3",
   "version": "3.7.3"
  }
 },
 "nbformat": 4,
 "nbformat_minor": 2
}
