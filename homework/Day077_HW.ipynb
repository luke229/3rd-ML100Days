{
 "cells": [
  {
   "cell_type": "markdown",
   "metadata": {},
   "source": [
    "## Work\n",
    "1. 請將 Epoch 加到 500 個，並觀察 learning curve 的走勢\n",
    "2. 請將 Optimizer 換成 SGD，並觀察 learning curve 的走勢"
   ]
  },
  {
   "cell_type": "code",
   "execution_count": 9,
   "metadata": {},
   "outputs": [],
   "source": [
    "import os\n",
    "import keras\n",
    "\n",
    "# 本作業可以不需使用 GPU, 將 GPU 設定為 \"無\" (若有 GPU 且想開啟，可設為 \"0\")\n",
    "os.environ[\"CUDA_VISIBLE_DEVICES\"] = \"\""
   ]
  },
  {
   "cell_type": "code",
   "execution_count": 10,
   "metadata": {},
   "outputs": [],
   "source": [
    "# 從 Keras 的內建功能中，取得 train 與 test 資料集\n",
    "train, test = keras.datasets.cifar10.load_data()"
   ]
  },
  {
   "cell_type": "code",
   "execution_count": 11,
   "metadata": {},
   "outputs": [],
   "source": [
    "# 將 X 與 Y 獨立放進變數\n",
    "x_train, y_train = train\n",
    "x_test, y_test = test\n",
    "# 資料前處理 - 標準化\n",
    "x_train = x_train / 255.\n",
    "x_test = x_test / 255.\n",
    "\n",
    "# 將資料從圖形 (RGB) 轉為向量 (Single Vector)\n",
    "x_train = x_train.reshape((len(x_train), -1))\n",
    "x_test = x_test.reshape((len(x_test), -1))\n",
    "\n",
    "# 將目標轉為 one-hot encoding\n",
    "y_train = keras.utils.to_categorical(y_train, num_classes=10)\n",
    "y_test = keras.utils.to_categorical(y_test, num_classes=10)"
   ]
  },
  {
   "cell_type": "code",
   "execution_count": 12,
   "metadata": {},
   "outputs": [],
   "source": [
    "def build_mlp():\n",
    "    \"\"\"Code Here\n",
    "    建立你的神經網路\n",
    "    \"\"\"\n",
    "    input_layer = keras.layers.Input([x_train.shape[-1]])\n",
    "    x = keras.layers.Dense(units=512, activation=\"relu\")(input_layer)\n",
    "    x = keras.layers.Dense(units=256, activation=\"relu\")(x)\n",
    "    x = keras.layers.Dense(units=128, activation=\"relu\")(x)\n",
    "    out = keras.layers.Dense(units=10, activation=\"softmax\")(x)\n",
    "    \n",
    "    model = keras.models.Model(inputs=[input_layer], outputs=[out])\n",
    "    return model\n",
    "model = build_mlp()"
   ]
  },
  {
   "cell_type": "code",
   "execution_count": 13,
   "metadata": {},
   "outputs": [
    {
     "name": "stdout",
     "output_type": "stream",
     "text": [
      "Model: \"model_4\"\n",
      "_________________________________________________________________\n",
      "Layer (type)                 Output Shape              Param #   \n",
      "=================================================================\n",
      "input_4 (InputLayer)         (None, 3072)              0         \n",
      "_________________________________________________________________\n",
      "dense_13 (Dense)             (None, 512)               1573376   \n",
      "_________________________________________________________________\n",
      "dense_14 (Dense)             (None, 256)               131328    \n",
      "_________________________________________________________________\n",
      "dense_15 (Dense)             (None, 128)               32896     \n",
      "_________________________________________________________________\n",
      "dense_16 (Dense)             (None, 10)                1290      \n",
      "=================================================================\n",
      "Total params: 1,738,890\n",
      "Trainable params: 1,738,890\n",
      "Non-trainable params: 0\n",
      "_________________________________________________________________\n"
     ]
    }
   ],
   "source": [
    "\"\"\"\n",
    "Compile 模型\n",
    "\"\"\"\n",
    "model = build_mlp()\n",
    "# 用 Keras 內建方法檢視模型各層參數量\n",
    "model.summary()\n",
    "\n",
    "optimizer = keras.optimizers.SGD(lr=0.001)\n",
    "model.compile(loss=\"categorical_crossentropy\", metrics=[\"accuracy\"], optimizer=optimizer)\n"
   ]
  },
  {
   "cell_type": "code",
   "execution_count": 14,
   "metadata": {
    "scrolled": true
   },
   "outputs": [
    {
     "name": "stdout",
     "output_type": "stream",
     "text": [
      "Train on 50000 samples, validate on 10000 samples\n",
      "Epoch 1/50\n",
      "50000/50000 [==============================] - 4s 73us/step - loss: 2.2784 - accuracy: 0.1387 - val_loss: 2.2343 - val_accuracy: 0.1823\n",
      "Epoch 2/50\n",
      "50000/50000 [==============================] - 4s 72us/step - loss: 2.2053 - accuracy: 0.2046 - val_loss: 2.1789 - val_accuracy: 0.2314\n",
      "Epoch 3/50\n",
      "50000/50000 [==============================] - 4s 79us/step - loss: 2.1548 - accuracy: 0.2421 - val_loss: 2.1332 - val_accuracy: 0.2601\n",
      "Epoch 4/50\n",
      "50000/50000 [==============================] - 4s 85us/step - loss: 2.1110 - accuracy: 0.2636 - val_loss: 2.0934 - val_accuracy: 0.2762\n",
      "Epoch 5/50\n",
      "50000/50000 [==============================] - 4s 89us/step - loss: 2.0733 - accuracy: 0.2810 - val_loss: 2.0592 - val_accuracy: 0.2896\n",
      "Epoch 6/50\n",
      "50000/50000 [==============================] - 4s 89us/step - loss: 2.0406 - accuracy: 0.2922 - val_loss: 2.0288 - val_accuracy: 0.3002\n",
      "Epoch 7/50\n",
      "50000/50000 [==============================] - 5s 93us/step - loss: 2.0120 - accuracy: 0.3023 - val_loss: 2.0028 - val_accuracy: 0.3037\n",
      "Epoch 8/50\n",
      "50000/50000 [==============================] - 5s 94us/step - loss: 1.9870 - accuracy: 0.3093 - val_loss: 1.9792 - val_accuracy: 0.3133\n",
      "Epoch 9/50\n",
      "50000/50000 [==============================] - 4s 88us/step - loss: 1.9649 - accuracy: 0.3166 - val_loss: 1.9600 - val_accuracy: 0.3164\n",
      "Epoch 10/50\n",
      "50000/50000 [==============================] - 4s 86us/step - loss: 1.9458 - accuracy: 0.3228 - val_loss: 1.9412 - val_accuracy: 0.3222\n",
      "Epoch 11/50\n",
      "50000/50000 [==============================] - 4s 89us/step - loss: 1.9286 - accuracy: 0.3295 - val_loss: 1.9256 - val_accuracy: 0.3298\n",
      "Epoch 12/50\n",
      "50000/50000 [==============================] - 4s 87us/step - loss: 1.9136 - accuracy: 0.3335 - val_loss: 1.9115 - val_accuracy: 0.3340\n",
      "Epoch 13/50\n",
      "50000/50000 [==============================] - 4s 84us/step - loss: 1.9001 - accuracy: 0.3386 - val_loss: 1.8994 - val_accuracy: 0.3355\n",
      "Epoch 14/50\n",
      "50000/50000 [==============================] - 4s 86us/step - loss: 1.8879 - accuracy: 0.3429 - val_loss: 1.8870 - val_accuracy: 0.3442\n",
      "Epoch 15/50\n",
      "50000/50000 [==============================] - 5s 92us/step - loss: 1.8767 - accuracy: 0.3465 - val_loss: 1.8778 - val_accuracy: 0.3457\n",
      "Epoch 16/50\n",
      "50000/50000 [==============================] - 4s 87us/step - loss: 1.8663 - accuracy: 0.3501 - val_loss: 1.8684 - val_accuracy: 0.3510\n",
      "Epoch 17/50\n",
      "50000/50000 [==============================] - 5s 91us/step - loss: 1.8572 - accuracy: 0.3527 - val_loss: 1.8584 - val_accuracy: 0.3545\n",
      "Epoch 18/50\n",
      "50000/50000 [==============================] - 5s 91us/step - loss: 1.8484 - accuracy: 0.3559 - val_loss: 1.8518 - val_accuracy: 0.3539\n",
      "Epoch 19/50\n",
      "50000/50000 [==============================] - 5s 95us/step - loss: 1.8405 - accuracy: 0.3593 - val_loss: 1.8440 - val_accuracy: 0.3560\n",
      "Epoch 20/50\n",
      "50000/50000 [==============================] - 4s 88us/step - loss: 1.8331 - accuracy: 0.3626 - val_loss: 1.8359 - val_accuracy: 0.3575\n",
      "Epoch 21/50\n",
      "50000/50000 [==============================] - 4s 83us/step - loss: 1.8258 - accuracy: 0.3652 - val_loss: 1.8305 - val_accuracy: 0.3626\n",
      "Epoch 22/50\n",
      "50000/50000 [==============================] - 4s 84us/step - loss: 1.8189 - accuracy: 0.3672 - val_loss: 1.8229 - val_accuracy: 0.3646\n",
      "Epoch 23/50\n",
      "50000/50000 [==============================] - 4s 88us/step - loss: 1.8125 - accuracy: 0.3698 - val_loss: 1.8164 - val_accuracy: 0.3648\n",
      "Epoch 24/50\n",
      "50000/50000 [==============================] - 5s 92us/step - loss: 1.8065 - accuracy: 0.3720 - val_loss: 1.8138 - val_accuracy: 0.3632\n",
      "Epoch 25/50\n",
      "50000/50000 [==============================] - 4s 82us/step - loss: 1.8004 - accuracy: 0.3733 - val_loss: 1.8060 - val_accuracy: 0.3716\n",
      "Epoch 26/50\n",
      "50000/50000 [==============================] - 4s 82us/step - loss: 1.7944 - accuracy: 0.3761 - val_loss: 1.8000 - val_accuracy: 0.3733\n",
      "Epoch 27/50\n",
      "50000/50000 [==============================] - 4s 87us/step - loss: 1.7892 - accuracy: 0.3776 - val_loss: 1.7935 - val_accuracy: 0.3747\n",
      "Epoch 28/50\n",
      "50000/50000 [==============================] - 4s 90us/step - loss: 1.7838 - accuracy: 0.3796 - val_loss: 1.7887 - val_accuracy: 0.3784\n",
      "Epoch 29/50\n",
      "50000/50000 [==============================] - 5s 95us/step - loss: 1.7786 - accuracy: 0.3813 - val_loss: 1.7834 - val_accuracy: 0.3782\n",
      "Epoch 30/50\n",
      "50000/50000 [==============================] - 5s 91us/step - loss: 1.7735 - accuracy: 0.3831 - val_loss: 1.7817 - val_accuracy: 0.3766\n",
      "Epoch 31/50\n",
      "50000/50000 [==============================] - 4s 90us/step - loss: 1.7685 - accuracy: 0.3842 - val_loss: 1.7739 - val_accuracy: 0.3815\n",
      "Epoch 32/50\n",
      "50000/50000 [==============================] - 4s 85us/step - loss: 1.7636 - accuracy: 0.3864 - val_loss: 1.7692 - val_accuracy: 0.3829\n",
      "Epoch 33/50\n",
      "50000/50000 [==============================] - 4s 87us/step - loss: 1.7585 - accuracy: 0.3866 - val_loss: 1.7652 - val_accuracy: 0.3850\n",
      "Epoch 34/50\n",
      "50000/50000 [==============================] - 4s 90us/step - loss: 1.7543 - accuracy: 0.3895 - val_loss: 1.7606 - val_accuracy: 0.3872\n",
      "Epoch 35/50\n",
      "50000/50000 [==============================] - 4s 82us/step - loss: 1.7496 - accuracy: 0.3905 - val_loss: 1.7576 - val_accuracy: 0.3859\n",
      "Epoch 36/50\n",
      "50000/50000 [==============================] - 4s 84us/step - loss: 1.7454 - accuracy: 0.3932 - val_loss: 1.7558 - val_accuracy: 0.3898\n",
      "Epoch 37/50\n",
      "50000/50000 [==============================] - 4s 85us/step - loss: 1.7410 - accuracy: 0.3935 - val_loss: 1.7492 - val_accuracy: 0.3926\n",
      "Epoch 38/50\n",
      "50000/50000 [==============================] - 5s 90us/step - loss: 1.7368 - accuracy: 0.3966 - val_loss: 1.7446 - val_accuracy: 0.3900\n",
      "Epoch 39/50\n",
      "50000/50000 [==============================] - 4s 87us/step - loss: 1.7326 - accuracy: 0.3975 - val_loss: 1.7400 - val_accuracy: 0.3922\n",
      "Epoch 40/50\n",
      "50000/50000 [==============================] - 4s 85us/step - loss: 1.7284 - accuracy: 0.3999 - val_loss: 1.7350 - val_accuracy: 0.3955\n",
      "Epoch 41/50\n",
      "50000/50000 [==============================] - 4s 85us/step - loss: 1.7244 - accuracy: 0.4008 - val_loss: 1.7321 - val_accuracy: 0.3968\n",
      "Epoch 42/50\n",
      "50000/50000 [==============================] - 4s 87us/step - loss: 1.7204 - accuracy: 0.4016 - val_loss: 1.7285 - val_accuracy: 0.3954\n",
      "Epoch 43/50\n",
      "50000/50000 [==============================] - 4s 85us/step - loss: 1.7163 - accuracy: 0.4023 - val_loss: 1.7250 - val_accuracy: 0.3999\n",
      "Epoch 44/50\n",
      "50000/50000 [==============================] - 5s 90us/step - loss: 1.7124 - accuracy: 0.4041 - val_loss: 1.7203 - val_accuracy: 0.3979\n",
      "Epoch 45/50\n",
      "50000/50000 [==============================] - 4s 88us/step - loss: 1.7088 - accuracy: 0.4054 - val_loss: 1.7170 - val_accuracy: 0.4008\n",
      "Epoch 46/50\n",
      "50000/50000 [==============================] - 5s 90us/step - loss: 1.7051 - accuracy: 0.4067 - val_loss: 1.7171 - val_accuracy: 0.3985\n",
      "Epoch 47/50\n",
      "50000/50000 [==============================] - 4s 90us/step - loss: 1.7014 - accuracy: 0.4077 - val_loss: 1.7094 - val_accuracy: 0.4044\n",
      "Epoch 48/50\n",
      "50000/50000 [==============================] - 5s 96us/step - loss: 1.6980 - accuracy: 0.4097 - val_loss: 1.7065 - val_accuracy: 0.4045\n",
      "Epoch 49/50\n",
      "50000/50000 [==============================] - 7s 150us/step - loss: 1.6943 - accuracy: 0.4107 - val_loss: 1.7056 - val_accuracy: 0.4023\n",
      "Epoch 50/50\n",
      "50000/50000 [==============================] - 7s 146us/step - loss: 1.6906 - accuracy: 0.4111 - val_loss: 1.7058 - val_accuracy: 0.4015\n"
     ]
    },
    {
     "data": {
      "text/plain": [
       "<keras.callbacks.callbacks.History at 0x63837bf98>"
      ]
     },
     "execution_count": 14,
     "metadata": {},
     "output_type": "execute_result"
    }
   ],
   "source": [
    "\"\"\"\n",
    "設定要訓練的 Epoch 數\n",
    "\"\"\"\n",
    "model.fit(x_train, y_train, \n",
    "          epochs= 50, \n",
    "          batch_size=256, \n",
    "          validation_data=(x_test, y_test), \n",
    "          shuffle=True)"
   ]
  },
  {
   "cell_type": "code",
   "execution_count": 15,
   "metadata": {},
   "outputs": [
    {
     "data": {
      "image/png": "[encoded data removed]",
      "text/plain": [
       "<Figure size 432x288 with 1 Axes>"
      ]
     },
     "metadata": {
      "needs_background": "light"
     },
     "output_type": "display_data"
    },
    {
     "data": {
      "image/png": "[encoded data removed]",
      "text/plain": [
       "<Figure size 432x288 with 1 Axes>"
      ]
     },
     "metadata": {
      "needs_background": "light"
     },
     "output_type": "display_data"
    }
   ],
   "source": [
    "import matplotlib.pyplot as plt\n",
    "# 以視覺畫方式檢視訓練過程\n",
    "\n",
    "train_loss = model.history.history[\"loss\"]\n",
    "valid_loss = model.history.history[\"val_loss\"]\n",
    "\n",
    "train_acc = model.history.history[\"accuracy\"]\n",
    "valid_acc = model.history.history[\"val_accuracy\"]\n",
    "\n",
    "plt.plot(range(len(train_loss)), train_loss, label=\"train loss\")\n",
    "plt.plot(range(len(valid_loss)), valid_loss, label=\"valid loss\")\n",
    "plt.legend()\n",
    "plt.title(\"Loss\")\n",
    "plt.show()\n",
    "\n",
    "plt.plot(range(len(train_acc)), train_acc, label=\"train accuracy\")\n",
    "plt.plot(range(len(valid_acc)), valid_acc, label=\"valid accuracy\")\n",
    "plt.legend()\n",
    "plt.title(\"Accuracy\")\n",
    "plt.show()"
   ]
  },
  {
   "cell_type": "code",
   "execution_count": null,
   "metadata": {},
   "outputs": [],
   "source": []
  }
 ],
 "metadata": {
  "kernelspec": {
   "display_name": "Python 3",
   "language": "python",
   "name": "python3"
  },
  "language_info": {
   "codemirror_mode": {
    "name": "ipython",
    "version": 3
   },
   "file_extension": ".py",
   "mimetype": "text/x-python",
   "name": "python",
   "nbconvert_exporter": "python",
   "pygments_lexer": "ipython3",
   "version": "3.7.3"
  }
 },
 "nbformat": 4,
 "nbformat_minor": 2
}
