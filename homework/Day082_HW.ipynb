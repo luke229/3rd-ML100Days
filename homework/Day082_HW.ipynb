{
 "cells": [
  {
   "cell_type": "markdown",
   "metadata": {},
   "source": [
    "## Work\n",
    "1. 請比較使用不同層數以及不同 Dropout rate 對訓練的效果\n",
    "2. 將 optimizer 改成使用 Adam 並加上適當的 dropout rate 檢視結果"
   ]
  },
  {
   "cell_type": "code",
   "execution_count": 1,
   "metadata": {},
   "outputs": [
    {
     "name": "stderr",
     "output_type": "stream",
     "text": [
      "Using TensorFlow backend.\n"
     ]
    }
   ],
   "source": [
    "import os\n",
    "import keras\n",
    "import itertools\n",
    "# Disable GPU\n",
    "os.environ[\"CUDA_VISIBLE_DEVICES\"] = \"\""
   ]
  },
  {
   "cell_type": "code",
   "execution_count": 2,
   "metadata": {},
   "outputs": [],
   "source": [
    "train, test = keras.datasets.cifar10.load_data()"
   ]
  },
  {
   "cell_type": "code",
   "execution_count": 3,
   "metadata": {},
   "outputs": [],
   "source": [
    "## 資料前處理\n",
    "def preproc_x(x, flatten=True):\n",
    "    x = x / 255.\n",
    "    if flatten:\n",
    "        x = x.reshape((len(x), -1))\n",
    "    return x\n",
    "\n",
    "def preproc_y(y, num_classes=10):\n",
    "    if y.shape[-1] == 1:\n",
    "        y = keras.utils.to_categorical(y, num_classes)\n",
    "    return y    "
   ]
  },
  {
   "cell_type": "code",
   "execution_count": 4,
   "metadata": {},
   "outputs": [],
   "source": [
    "x_train, y_train = train\n",
    "x_test, y_test = test\n",
    "\n",
    "# Preproc the inputs\n",
    "x_train = preproc_x(x_train)\n",
    "x_test = preproc_x(x_test)\n",
    "\n",
    "# Preprc the outputs\n",
    "y_train = preproc_y(y_train)\n",
    "y_test = preproc_y(y_test)"
   ]
  },
  {
   "cell_type": "code",
   "execution_count": 5,
   "metadata": {},
   "outputs": [],
   "source": [
    "from keras.layers import Dropout\n",
    "def build_mlp(input_shape, output_units=10, num_neurons=[512, 256, 128], drp_ratio=0.4):\n",
    "    input_layer = keras.layers.Input(input_shape)\n",
    "    \n",
    "    for i, n_units in enumerate(num_neurons):\n",
    "        if i == 0:\n",
    "            x = keras.layers.Dense(units=n_units, \n",
    "                                   activation=\"relu\", \n",
    "                                   name=\"hidden_layer\"+str(i+1))(input_layer)\n",
    "            x = Dropout(drp_ratio)(x)\n",
    "        else:\n",
    "            x = keras.layers.Dense(units=n_units, \n",
    "                                   activation=\"relu\", \n",
    "                                   name=\"hidden_layer\"+str(i+1))(x)\n",
    "            x = Dropout(drp_ratio)(x)\n",
    "    \n",
    "    out = keras.layers.Dense(units=output_units, activation=\"softmax\", name=\"output\")(x)\n",
    "    \n",
    "    model = keras.models.Model(inputs=[input_layer], outputs=[out])\n",
    "    return model"
   ]
  },
  {
   "cell_type": "code",
   "execution_count": 6,
   "metadata": {},
   "outputs": [],
   "source": [
    "LEARNING_RATE = 1e-3\n",
    "EPOCHS = 50\n",
    "BATCH_SIZE = 256\n",
    "MOMENTUM = 0.95\n",
    "Dropout_EXP = 0.25"
   ]
  },
  {
   "cell_type": "code",
   "execution_count": 7,
   "metadata": {
    "scrolled": true
   },
   "outputs": [
    {
     "name": "stdout",
     "output_type": "stream",
     "text": [
      "Model: \"model_1\"\n",
      "_________________________________________________________________\n",
      "Layer (type)                 Output Shape              Param #   \n",
      "=================================================================\n",
      "input_1 (InputLayer)         (None, 3072)              0         \n",
      "_________________________________________________________________\n",
      "hidden_layer1 (Dense)        (None, 512)               1573376   \n",
      "_________________________________________________________________\n",
      "dropout_1 (Dropout)          (None, 512)               0         \n",
      "_________________________________________________________________\n",
      "hidden_layer2 (Dense)        (None, 256)               131328    \n",
      "_________________________________________________________________\n",
      "dropout_2 (Dropout)          (None, 256)               0         \n",
      "_________________________________________________________________\n",
      "hidden_layer3 (Dense)        (None, 128)               32896     \n",
      "_________________________________________________________________\n",
      "dropout_3 (Dropout)          (None, 128)               0         \n",
      "_________________________________________________________________\n",
      "output (Dense)               (None, 10)                1290      \n",
      "=================================================================\n",
      "Total params: 1,738,890\n",
      "Trainable params: 1,738,890\n",
      "Non-trainable params: 0\n",
      "_________________________________________________________________\n",
      "Train on 50000 samples, validate on 10000 samples\n",
      "Epoch 1/50\n",
      "50000/50000 [==============================] - 9s 175us/step - loss: 2.1938 - accuracy: 0.1814 - val_loss: 1.9950 - val_accuracy: 0.2953\n",
      "Epoch 2/50\n",
      "50000/50000 [==============================] - 9s 182us/step - loss: 2.0023 - accuracy: 0.2648 - val_loss: 1.8687 - val_accuracy: 0.3458\n",
      "Epoch 3/50\n",
      "50000/50000 [==============================] - 10s 196us/step - loss: 1.9182 - accuracy: 0.3059 - val_loss: 1.8079 - val_accuracy: 0.3597\n",
      "Epoch 4/50\n",
      "50000/50000 [==============================] - 10s 192us/step - loss: 1.8629 - accuracy: 0.3294 - val_loss: 1.7571 - val_accuracy: 0.3777\n",
      "Epoch 5/50\n",
      "50000/50000 [==============================] - 10s 193us/step - loss: 1.8205 - accuracy: 0.3456 - val_loss: 1.7142 - val_accuracy: 0.3970\n",
      "Epoch 6/50\n",
      "50000/50000 [==============================] - 9s 180us/step - loss: 1.7877 - accuracy: 0.3581 - val_loss: 1.6842 - val_accuracy: 0.4092\n",
      "Epoch 7/50\n",
      "50000/50000 [==============================] - 9s 182us/step - loss: 1.7551 - accuracy: 0.3695 - val_loss: 1.6506 - val_accuracy: 0.4188\n",
      "Epoch 8/50\n",
      "50000/50000 [==============================] - 9s 172us/step - loss: 1.7272 - accuracy: 0.3849 - val_loss: 1.6287 - val_accuracy: 0.4300\n",
      "Epoch 9/50\n",
      "50000/50000 [==============================] - 9s 177us/step - loss: 1.7035 - accuracy: 0.3901 - val_loss: 1.6085 - val_accuracy: 0.4341\n",
      "Epoch 10/50\n",
      "50000/50000 [==============================] - 9s 179us/step - loss: 1.6786 - accuracy: 0.3989 - val_loss: 1.5788 - val_accuracy: 0.4445\n",
      "Epoch 11/50\n",
      "50000/50000 [==============================] - 9s 177us/step - loss: 1.6598 - accuracy: 0.4066 - val_loss: 1.5692 - val_accuracy: 0.4412\n",
      "Epoch 12/50\n",
      "50000/50000 [==============================] - 9s 177us/step - loss: 1.6399 - accuracy: 0.4154 - val_loss: 1.5419 - val_accuracy: 0.4549\n",
      "Epoch 13/50\n",
      "50000/50000 [==============================] - 10s 191us/step - loss: 1.6206 - accuracy: 0.4216 - val_loss: 1.5315 - val_accuracy: 0.4591\n",
      "Epoch 14/50\n",
      "50000/50000 [==============================] - 9s 174us/step - loss: 1.6095 - accuracy: 0.4274 - val_loss: 1.5183 - val_accuracy: 0.4605\n",
      "Epoch 15/50\n",
      "50000/50000 [==============================] - 8s 154us/step - loss: 1.5948 - accuracy: 0.4321 - val_loss: 1.5050 - val_accuracy: 0.4673\n",
      "Epoch 16/50\n",
      "50000/50000 [==============================] - 7s 138us/step - loss: 1.5772 - accuracy: 0.4381 - val_loss: 1.4963 - val_accuracy: 0.4719\n",
      "Epoch 17/50\n",
      "50000/50000 [==============================] - 10s 203us/step - loss: 1.5629 - accuracy: 0.4425 - val_loss: 1.4854 - val_accuracy: 0.4758\n",
      "Epoch 18/50\n",
      "50000/50000 [==============================] - 10s 196us/step - loss: 1.5476 - accuracy: 0.4505 - val_loss: 1.4740 - val_accuracy: 0.4818\n",
      "Epoch 19/50\n",
      "50000/50000 [==============================] - 10s 207us/step - loss: 1.5381 - accuracy: 0.4518 - val_loss: 1.4619 - val_accuracy: 0.4766\n",
      "Epoch 20/50\n",
      "50000/50000 [==============================] - 9s 178us/step - loss: 1.5225 - accuracy: 0.4573 - val_loss: 1.4549 - val_accuracy: 0.4804\n",
      "Epoch 21/50\n",
      "50000/50000 [==============================] - 9s 175us/step - loss: 1.5166 - accuracy: 0.4571 - val_loss: 1.4397 - val_accuracy: 0.4865\n",
      "Epoch 22/50\n",
      "50000/50000 [==============================] - 9s 170us/step - loss: 1.5067 - accuracy: 0.4674 - val_loss: 1.4263 - val_accuracy: 0.4912\n",
      "Epoch 23/50\n",
      "50000/50000 [==============================] - 9s 187us/step - loss: 1.4940 - accuracy: 0.4660 - val_loss: 1.4245 - val_accuracy: 0.4929\n",
      "Epoch 24/50\n",
      "50000/50000 [==============================] - 10s 196us/step - loss: 1.4822 - accuracy: 0.4737 - val_loss: 1.4157 - val_accuracy: 0.4941\n",
      "Epoch 25/50\n",
      "50000/50000 [==============================] - 9s 176us/step - loss: 1.4732 - accuracy: 0.4752 - val_loss: 1.4180 - val_accuracy: 0.4928\n",
      "Epoch 26/50\n",
      "50000/50000 [==============================] - 9s 181us/step - loss: 1.4624 - accuracy: 0.4796 - val_loss: 1.4015 - val_accuracy: 0.5009\n",
      "Epoch 27/50\n",
      "50000/50000 [==============================] - 9s 180us/step - loss: 1.4531 - accuracy: 0.4843 - val_loss: 1.4062 - val_accuracy: 0.4969\n",
      "Epoch 28/50\n",
      "50000/50000 [==============================] - 9s 173us/step - loss: 1.4503 - accuracy: 0.4850 - val_loss: 1.3936 - val_accuracy: 0.5009\n",
      "Epoch 29/50\n",
      "50000/50000 [==============================] - 9s 184us/step - loss: 1.4314 - accuracy: 0.4872 - val_loss: 1.3827 - val_accuracy: 0.5051\n",
      "Epoch 30/50\n",
      "50000/50000 [==============================] - 9s 185us/step - loss: 1.4288 - accuracy: 0.4891 - val_loss: 1.3902 - val_accuracy: 0.5001\n",
      "Epoch 31/50\n",
      "50000/50000 [==============================] - 9s 175us/step - loss: 1.4145 - accuracy: 0.4957 - val_loss: 1.3761 - val_accuracy: 0.5074\n",
      "Epoch 32/50\n",
      "50000/50000 [==============================] - 9s 185us/step - loss: 1.4113 - accuracy: 0.4965 - val_loss: 1.3773 - val_accuracy: 0.5065\n",
      "Epoch 33/50\n",
      "50000/50000 [==============================] - 10s 191us/step - loss: 1.3971 - accuracy: 0.5015 - val_loss: 1.3661 - val_accuracy: 0.5114\n",
      "Epoch 34/50\n",
      "50000/50000 [==============================] - 11s 210us/step - loss: 1.3915 - accuracy: 0.5039 - val_loss: 1.3680 - val_accuracy: 0.5061\n",
      "Epoch 35/50\n",
      "50000/50000 [==============================] - 14s 281us/step - loss: 1.3851 - accuracy: 0.5069 - val_loss: 1.3590 - val_accuracy: 0.5118\n",
      "Epoch 36/50\n",
      "50000/50000 [==============================] - 15s 296us/step - loss: 1.3765 - accuracy: 0.5096 - val_loss: 1.3539 - val_accuracy: 0.5138\n",
      "Epoch 37/50\n",
      "50000/50000 [==============================] - 14s 289us/step - loss: 1.3670 - accuracy: 0.5130 - val_loss: 1.3452 - val_accuracy: 0.5170\n",
      "Epoch 38/50\n",
      "50000/50000 [==============================] - 14s 288us/step - loss: 1.3677 - accuracy: 0.5097 - val_loss: 1.3489 - val_accuracy: 0.5157\n",
      "Epoch 39/50\n",
      "50000/50000 [==============================] - 13s 269us/step - loss: 1.3556 - accuracy: 0.5173 - val_loss: 1.3477 - val_accuracy: 0.5157\n",
      "Epoch 40/50\n",
      "50000/50000 [==============================] - 14s 275us/step - loss: 1.3468 - accuracy: 0.5191 - val_loss: 1.3360 - val_accuracy: 0.5197\n",
      "Epoch 41/50\n",
      "50000/50000 [==============================] - 14s 275us/step - loss: 1.3448 - accuracy: 0.5192 - val_loss: 1.3406 - val_accuracy: 0.5191\n",
      "Epoch 42/50\n",
      "50000/50000 [==============================] - 14s 290us/step - loss: 1.3372 - accuracy: 0.5225 - val_loss: 1.3301 - val_accuracy: 0.5201\n",
      "Epoch 43/50\n",
      "50000/50000 [==============================] - 13s 265us/step - loss: 1.3310 - accuracy: 0.5268 - val_loss: 1.3281 - val_accuracy: 0.5282\n",
      "Epoch 44/50\n",
      "50000/50000 [==============================] - 14s 287us/step - loss: 1.3208 - accuracy: 0.5253 - val_loss: 1.3180 - val_accuracy: 0.5272\n",
      "Epoch 45/50\n",
      "50000/50000 [==============================] - 17s 337us/step - loss: 1.3156 - accuracy: 0.5282 - val_loss: 1.3194 - val_accuracy: 0.5261\n",
      "Epoch 46/50\n"
     ]
    },
    {
     "name": "stdout",
     "output_type": "stream",
     "text": [
      "50000/50000 [==============================] - 17s 335us/step - loss: 1.3126 - accuracy: 0.5291 - val_loss: 1.3223 - val_accuracy: 0.5315\n",
      "Epoch 47/50\n",
      "50000/50000 [==============================] - 15s 298us/step - loss: 1.3041 - accuracy: 0.5358 - val_loss: 1.3213 - val_accuracy: 0.5270\n",
      "Epoch 48/50\n",
      "50000/50000 [==============================] - 17s 335us/step - loss: 1.3003 - accuracy: 0.5356 - val_loss: 1.3147 - val_accuracy: 0.5281\n",
      "Epoch 49/50\n",
      "50000/50000 [==============================] - 18s 363us/step - loss: 1.2906 - accuracy: 0.5397 - val_loss: 1.3133 - val_accuracy: 0.5329\n",
      "Epoch 50/50\n",
      "50000/50000 [==============================] - 17s 336us/step - loss: 1.2849 - accuracy: 0.5432 - val_loss: 1.3086 - val_accuracy: 0.5331\n"
     ]
    }
   ],
   "source": [
    "model = build_mlp(input_shape=x_train.shape[1:], drp_ratio=Dropout_EXP)\n",
    "model.summary()\n",
    "optimizer = keras.optimizers.SGD(lr=LEARNING_RATE, nesterov=True, momentum=MOMENTUM)\n",
    "model.compile(loss=\"categorical_crossentropy\", metrics=[\"accuracy\"], optimizer=optimizer)\n",
    "\n",
    "model.fit(x_train, y_train, \n",
    "          epochs=EPOCHS, \n",
    "          batch_size=BATCH_SIZE, \n",
    "          validation_data=(x_test, y_test), \n",
    "          shuffle=True)\n",
    "\n",
    "# Collect results\n",
    "train_loss = model.history.history[\"loss\"]\n",
    "valid_loss = model.history.history[\"val_loss\"]\n",
    "train_acc = model.history.history[\"accuracy\"]\n",
    "valid_acc = model.history.history[\"val_accuracy\"]"
   ]
  },
  {
   "cell_type": "code",
   "execution_count": 8,
   "metadata": {},
   "outputs": [
    {
     "data": {
      "image/png": "[encoded data removed]",
      "text/plain": [
       "<Figure size 432x288 with 1 Axes>"
      ]
     },
     "metadata": {
      "needs_background": "light"
     },
     "output_type": "display_data"
    },
    {
     "data": {
      "image/png": "[encoded data removed]",
      "text/plain": [
       "<Figure size 432x288 with 1 Axes>"
      ]
     },
     "metadata": {
      "needs_background": "light"
     },
     "output_type": "display_data"
    }
   ],
   "source": [
    "import matplotlib.pyplot as plt\n",
    "%matplotlib inline\n",
    "\n",
    "plt.plot(range(len(train_loss)), train_loss, label=\"train loss\")\n",
    "plt.plot(range(len(valid_loss)), valid_loss, label=\"valid loss\")\n",
    "plt.legend()\n",
    "plt.title(\"Loss\")\n",
    "plt.show()\n",
    "\n",
    "plt.plot(range(len(train_acc)), train_acc, label=\"train accuracy\")\n",
    "plt.plot(range(len(valid_acc)), valid_acc, label=\"valid accuracy\")\n",
    "plt.legend()\n",
    "plt.title(\"Accuracy\")\n",
    "plt.show()"
   ]
  }
 ],
 "metadata": {
  "kernelspec": {
   "display_name": "Python 3",
   "language": "python",
   "name": "python3"
  },
  "language_info": {
   "codemirror_mode": {
    "name": "ipython",
    "version": 3
   },
   "file_extension": ".py",
   "mimetype": "text/x-python",
   "name": "python",
   "nbconvert_exporter": "python",
   "pygments_lexer": "ipython3",
   "version": "3.7.3"
  }
 },
 "nbformat": 4,
 "nbformat_minor": 2
}
