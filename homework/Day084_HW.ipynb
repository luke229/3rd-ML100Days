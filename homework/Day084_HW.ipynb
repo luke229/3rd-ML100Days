{
 "cells": [
  {
   "cell_type": "markdown",
   "metadata": {},
   "source": [
    "## Work\n",
    "### 請結合前面的知識與程式碼，比較不同的 regularization 的組合對訓練的結果與影響：如 dropout, regularizers, batch-normalization 等"
   ]
  },
  {
   "cell_type": "code",
   "execution_count": 1,
   "metadata": {},
   "outputs": [
    {
     "name": "stderr",
     "output_type": "stream",
     "text": [
      "Using TensorFlow backend.\n"
     ]
    }
   ],
   "source": [
    "import os\n",
    "import keras\n",
    "import itertools\n",
    "# Disable GPU\n",
    "os.environ[\"CUDA_VISIBLE_DEVICES\"] = \"\""
   ]
  },
  {
   "cell_type": "code",
   "execution_count": 2,
   "metadata": {},
   "outputs": [],
   "source": [
    "train, test = keras.datasets.cifar10.load_data()"
   ]
  },
  {
   "cell_type": "code",
   "execution_count": 3,
   "metadata": {},
   "outputs": [],
   "source": [
    "## 資料前處理\n",
    "def preproc_x(x, flatten=True):\n",
    "    x = x / 255.\n",
    "    if flatten:\n",
    "        x = x.reshape((len(x), -1))\n",
    "    return x\n",
    "\n",
    "def preproc_y(y, num_classes=10):\n",
    "    if y.shape[-1] == 1:\n",
    "        y = keras.utils.to_categorical(y, num_classes)\n",
    "    return y    "
   ]
  },
  {
   "cell_type": "code",
   "execution_count": 4,
   "metadata": {},
   "outputs": [],
   "source": [
    "x_train, y_train = train\n",
    "x_test, y_test = test\n",
    "\n",
    "# Preproc the inputs\n",
    "x_train = preproc_x(x_train)\n",
    "x_test = preproc_x(x_test)\n",
    "\n",
    "# Preprc the outputs\n",
    "y_train = preproc_y(y_train)\n",
    "y_test = preproc_y(y_test)"
   ]
  },
  {
   "cell_type": "code",
   "execution_count": 5,
   "metadata": {},
   "outputs": [],
   "source": [
    "from keras.layers import BatchNormalization\n",
    "\n",
    "\n",
    "def build_mlp(input_shape, output_units=10, num_neurons=[512, 256, 128]):\n",
    "    input_layer = keras.layers.Input(input_shape)\n",
    "    \n",
    "    for i, n_units in enumerate(num_neurons):\n",
    "        if i == 0:\n",
    "            x = keras.layers.Dense(units=n_units, \n",
    "                                   activation=\"relu\", \n",
    "                                   name=\"hidden_layer\"+str(i+1))(input_layer)\n",
    "            x = BatchNormalization()(x)\n",
    "        else:\n",
    "            x = keras.layers.Dense(units=n_units, \n",
    "                                   activation=\"relu\", \n",
    "                                   name=\"hidden_layer\"+str(i+1))(x)\n",
    "            x = BatchNormalization()(x)\n",
    "    \n",
    "    out = keras.layers.Dense(units=output_units, activation=\"softmax\", name=\"output\")(x)\n",
    "    \n",
    "    model = keras.models.Model(inputs=[input_layer], outputs=[out])\n",
    "    return model"
   ]
  },
  {
   "cell_type": "code",
   "execution_count": 6,
   "metadata": {},
   "outputs": [],
   "source": [
    "LEARNING_RATE = 1e-3\n",
    "EPOCHS = 50\n",
    "BATCH_SIZE = 1024\n",
    "MOMENTUM = 0.95"
   ]
  },
  {
   "cell_type": "code",
   "execution_count": 7,
   "metadata": {
    "scrolled": true
   },
   "outputs": [
    {
     "name": "stdout",
     "output_type": "stream",
     "text": [
      "Model: \"model_1\"\n",
      "_________________________________________________________________\n",
      "Layer (type)                 Output Shape              Param #   \n",
      "=================================================================\n",
      "input_1 (InputLayer)         (None, 3072)              0         \n",
      "_________________________________________________________________\n",
      "hidden_layer1 (Dense)        (None, 512)               1573376   \n",
      "_________________________________________________________________\n",
      "batch_normalization_1 (Batch (None, 512)               2048      \n",
      "_________________________________________________________________\n",
      "hidden_layer2 (Dense)        (None, 256)               131328    \n",
      "_________________________________________________________________\n",
      "batch_normalization_2 (Batch (None, 256)               1024      \n",
      "_________________________________________________________________\n",
      "hidden_layer3 (Dense)        (None, 128)               32896     \n",
      "_________________________________________________________________\n",
      "batch_normalization_3 (Batch (None, 128)               512       \n",
      "_________________________________________________________________\n",
      "output (Dense)               (None, 10)                1290      \n",
      "=================================================================\n",
      "Total params: 1,742,474\n",
      "Trainable params: 1,740,682\n",
      "Non-trainable params: 1,792\n",
      "_________________________________________________________________\n",
      "Train on 50000 samples, validate on 10000 samples\n",
      "Epoch 1/50\n",
      "50000/50000 [==============================] - 5s 100us/step - loss: 2.2109 - accuracy: 0.2661 - val_loss: 2.1446 - val_accuracy: 0.2102\n",
      "Epoch 2/50\n",
      "50000/50000 [==============================] - 4s 86us/step - loss: 1.7455 - accuracy: 0.3890 - val_loss: 1.9765 - val_accuracy: 0.3006\n",
      "Epoch 3/50\n",
      "50000/50000 [==============================] - 4s 88us/step - loss: 1.6206 - accuracy: 0.4335 - val_loss: 1.8463 - val_accuracy: 0.3647\n",
      "Epoch 4/50\n",
      "50000/50000 [==============================] - 4s 88us/step - loss: 1.5478 - accuracy: 0.4601 - val_loss: 1.7286 - val_accuracy: 0.4089\n",
      "Epoch 5/50\n",
      "50000/50000 [==============================] - 4s 89us/step - loss: 1.4930 - accuracy: 0.4793 - val_loss: 1.6422 - val_accuracy: 0.4292\n",
      "Epoch 6/50\n",
      "50000/50000 [==============================] - 4s 88us/step - loss: 1.4477 - accuracy: 0.4948 - val_loss: 1.5896 - val_accuracy: 0.4434\n",
      "Epoch 7/50\n",
      "50000/50000 [==============================] - 4s 88us/step - loss: 1.4087 - accuracy: 0.5123 - val_loss: 1.5482 - val_accuracy: 0.4585\n",
      "Epoch 8/50\n",
      "50000/50000 [==============================] - 4s 86us/step - loss: 1.3739 - accuracy: 0.5225 - val_loss: 1.5223 - val_accuracy: 0.4631\n",
      "Epoch 9/50\n",
      "50000/50000 [==============================] - 4s 89us/step - loss: 1.3420 - accuracy: 0.5339 - val_loss: 1.5112 - val_accuracy: 0.4642\n",
      "Epoch 10/50\n",
      "50000/50000 [==============================] - 4s 86us/step - loss: 1.3116 - accuracy: 0.5469 - val_loss: 1.4935 - val_accuracy: 0.4713\n",
      "Epoch 11/50\n",
      "50000/50000 [==============================] - 4s 85us/step - loss: 1.2835 - accuracy: 0.5564 - val_loss: 1.4835 - val_accuracy: 0.4754\n",
      "Epoch 12/50\n",
      "50000/50000 [==============================] - 4s 88us/step - loss: 1.2573 - accuracy: 0.5654 - val_loss: 1.4819 - val_accuracy: 0.4804\n",
      "Epoch 13/50\n",
      "50000/50000 [==============================] - 4s 88us/step - loss: 1.2304 - accuracy: 0.5765 - val_loss: 1.4643 - val_accuracy: 0.4831\n",
      "Epoch 14/50\n",
      "50000/50000 [==============================] - 4s 86us/step - loss: 1.2057 - accuracy: 0.5860 - val_loss: 1.4535 - val_accuracy: 0.4901\n",
      "Epoch 15/50\n",
      "50000/50000 [==============================] - 4s 88us/step - loss: 1.1832 - accuracy: 0.5932 - val_loss: 1.4538 - val_accuracy: 0.4935\n",
      "Epoch 16/50\n",
      "50000/50000 [==============================] - 4s 87us/step - loss: 1.1589 - accuracy: 0.6026 - val_loss: 1.4416 - val_accuracy: 0.4915\n",
      "Epoch 17/50\n",
      "50000/50000 [==============================] - 4s 89us/step - loss: 1.1371 - accuracy: 0.6106 - val_loss: 1.4428 - val_accuracy: 0.4940\n",
      "Epoch 18/50\n",
      "50000/50000 [==============================] - 4s 90us/step - loss: 1.1142 - accuracy: 0.6201 - val_loss: 1.4442 - val_accuracy: 0.4941\n",
      "Epoch 19/50\n",
      "50000/50000 [==============================] - 4s 86us/step - loss: 1.0915 - accuracy: 0.6272 - val_loss: 1.4470 - val_accuracy: 0.4939\n",
      "Epoch 20/50\n",
      "50000/50000 [==============================] - 4s 86us/step - loss: 1.0714 - accuracy: 0.6340 - val_loss: 1.4564 - val_accuracy: 0.4958\n",
      "Epoch 21/50\n",
      "50000/50000 [==============================] - 4s 89us/step - loss: 1.0514 - accuracy: 0.6418 - val_loss: 1.4456 - val_accuracy: 0.5011\n",
      "Epoch 22/50\n",
      "50000/50000 [==============================] - 5s 91us/step - loss: 1.0286 - accuracy: 0.6512 - val_loss: 1.4353 - val_accuracy: 0.4943\n",
      "Epoch 23/50\n",
      "50000/50000 [==============================] - 5s 93us/step - loss: 1.0086 - accuracy: 0.6583 - val_loss: 1.4459 - val_accuracy: 0.4991\n",
      "Epoch 24/50\n",
      "50000/50000 [==============================] - 4s 88us/step - loss: 0.9877 - accuracy: 0.6677 - val_loss: 1.4633 - val_accuracy: 0.4923\n",
      "Epoch 25/50\n",
      "50000/50000 [==============================] - 4s 88us/step - loss: 0.9666 - accuracy: 0.6759 - val_loss: 1.4497 - val_accuracy: 0.4981\n",
      "Epoch 26/50\n",
      "50000/50000 [==============================] - 5s 93us/step - loss: 0.9473 - accuracy: 0.6829 - val_loss: 1.4454 - val_accuracy: 0.5048\n",
      "Epoch 27/50\n",
      "50000/50000 [==============================] - 4s 87us/step - loss: 0.9262 - accuracy: 0.6913 - val_loss: 1.4580 - val_accuracy: 0.5007\n",
      "Epoch 28/50\n",
      "50000/50000 [==============================] - 4s 87us/step - loss: 0.9079 - accuracy: 0.6983 - val_loss: 1.4532 - val_accuracy: 0.5027\n",
      "Epoch 29/50\n",
      "50000/50000 [==============================] - 5s 93us/step - loss: 0.8868 - accuracy: 0.7078 - val_loss: 1.4656 - val_accuracy: 0.4985\n",
      "Epoch 30/50\n",
      "50000/50000 [==============================] - 4s 86us/step - loss: 0.8685 - accuracy: 0.7134 - val_loss: 1.4622 - val_accuracy: 0.5025\n",
      "Epoch 31/50\n",
      "50000/50000 [==============================] - 5s 93us/step - loss: 0.8495 - accuracy: 0.7209 - val_loss: 1.4766 - val_accuracy: 0.5000\n",
      "Epoch 32/50\n",
      "50000/50000 [==============================] - 5s 95us/step - loss: 0.8295 - accuracy: 0.7305 - val_loss: 1.4817 - val_accuracy: 0.5000\n",
      "Epoch 33/50\n",
      "50000/50000 [==============================] - 5s 94us/step - loss: 0.8114 - accuracy: 0.7364 - val_loss: 1.4762 - val_accuracy: 0.5048\n",
      "Epoch 34/50\n",
      "50000/50000 [==============================] - 5s 99us/step - loss: 0.7907 - accuracy: 0.7431 - val_loss: 1.4958 - val_accuracy: 0.4980\n",
      "Epoch 35/50\n",
      "50000/50000 [==============================] - 5s 95us/step - loss: 0.7725 - accuracy: 0.7491 - val_loss: 1.5183 - val_accuracy: 0.4996\n",
      "Epoch 36/50\n",
      "50000/50000 [==============================] - 4s 87us/step - loss: 0.7537 - accuracy: 0.7595 - val_loss: 1.5111 - val_accuracy: 0.4960\n",
      "Epoch 37/50\n",
      "50000/50000 [==============================] - 4s 89us/step - loss: 0.7364 - accuracy: 0.7634 - val_loss: 1.5143 - val_accuracy: 0.5006\n",
      "Epoch 38/50\n",
      "50000/50000 [==============================] - 4s 89us/step - loss: 0.7152 - accuracy: 0.7735 - val_loss: 1.5204 - val_accuracy: 0.4961\n",
      "Epoch 39/50\n",
      "50000/50000 [==============================] - 5s 93us/step - loss: 0.6987 - accuracy: 0.7814 - val_loss: 1.5391 - val_accuracy: 0.4979\n",
      "Epoch 40/50\n",
      "50000/50000 [==============================] - 5s 92us/step - loss: 0.6816 - accuracy: 0.7876 - val_loss: 1.5350 - val_accuracy: 0.5030\n",
      "Epoch 41/50\n",
      "50000/50000 [==============================] - 5s 95us/step - loss: 0.6603 - accuracy: 0.7969 - val_loss: 1.5636 - val_accuracy: 0.4952\n",
      "Epoch 42/50\n",
      "50000/50000 [==============================] - 4s 89us/step - loss: 0.6455 - accuracy: 0.8026 - val_loss: 1.5578 - val_accuracy: 0.4936\n",
      "Epoch 43/50\n",
      "50000/50000 [==============================] - 4s 89us/step - loss: 0.6255 - accuracy: 0.8111 - val_loss: 1.5896 - val_accuracy: 0.4954\n",
      "Epoch 44/50\n",
      "50000/50000 [==============================] - 5s 92us/step - loss: 0.6086 - accuracy: 0.8170 - val_loss: 1.5759 - val_accuracy: 0.4968\n",
      "Epoch 45/50\n",
      "50000/50000 [==============================] - 4s 87us/step - loss: 0.5925 - accuracy: 0.8237 - val_loss: 1.5958 - val_accuracy: 0.4929\n",
      "Epoch 46/50\n"
     ]
    },
    {
     "name": "stdout",
     "output_type": "stream",
     "text": [
      "50000/50000 [==============================] - 4s 88us/step - loss: 0.5740 - accuracy: 0.8304 - val_loss: 1.6240 - val_accuracy: 0.4978\n",
      "Epoch 47/50\n",
      "50000/50000 [==============================] - 4s 87us/step - loss: 0.5568 - accuracy: 0.8367 - val_loss: 1.6301 - val_accuracy: 0.4959\n",
      "Epoch 48/50\n",
      "50000/50000 [==============================] - 4s 88us/step - loss: 0.5416 - accuracy: 0.8421 - val_loss: 1.6218 - val_accuracy: 0.4943\n",
      "Epoch 49/50\n",
      "50000/50000 [==============================] - 5s 90us/step - loss: 0.5234 - accuracy: 0.8500 - val_loss: 1.6487 - val_accuracy: 0.4946\n",
      "Epoch 50/50\n",
      "50000/50000 [==============================] - 5s 95us/step - loss: 0.5090 - accuracy: 0.8557 - val_loss: 1.6428 - val_accuracy: 0.4961\n"
     ]
    },
    {
     "ename": "KeyError",
     "evalue": "'acc'",
     "output_type": "error",
     "traceback": [
      "\u001b[0;31m---------------------------------------------------------------------------\u001b[0m",
      "\u001b[0;31mKeyError\u001b[0m                                  Traceback (most recent call last)",
      "\u001b[0;32m<ipython-input-7-6b8c490541d7>\u001b[0m in \u001b[0;36m<module>\u001b[0;34m\u001b[0m\n\u001b[1;32m     13\u001b[0m \u001b[0mtrain_loss\u001b[0m \u001b[0;34m=\u001b[0m \u001b[0mmodel\u001b[0m\u001b[0;34m.\u001b[0m\u001b[0mhistory\u001b[0m\u001b[0;34m.\u001b[0m\u001b[0mhistory\u001b[0m\u001b[0;34m[\u001b[0m\u001b[0;34m\"loss\"\u001b[0m\u001b[0;34m]\u001b[0m\u001b[0;34m\u001b[0m\u001b[0;34m\u001b[0m\u001b[0m\n\u001b[1;32m     14\u001b[0m \u001b[0mvalid_loss\u001b[0m \u001b[0;34m=\u001b[0m \u001b[0mmodel\u001b[0m\u001b[0;34m.\u001b[0m\u001b[0mhistory\u001b[0m\u001b[0;34m.\u001b[0m\u001b[0mhistory\u001b[0m\u001b[0;34m[\u001b[0m\u001b[0;34m\"val_loss\"\u001b[0m\u001b[0;34m]\u001b[0m\u001b[0;34m\u001b[0m\u001b[0;34m\u001b[0m\u001b[0m\n\u001b[0;32m---> 15\u001b[0;31m \u001b[0mtrain_acc\u001b[0m \u001b[0;34m=\u001b[0m \u001b[0mmodel\u001b[0m\u001b[0;34m.\u001b[0m\u001b[0mhistory\u001b[0m\u001b[0;34m.\u001b[0m\u001b[0mhistory\u001b[0m\u001b[0;34m[\u001b[0m\u001b[0;34m\"acc\"\u001b[0m\u001b[0;34m]\u001b[0m\u001b[0;34m\u001b[0m\u001b[0;34m\u001b[0m\u001b[0m\n\u001b[0m\u001b[1;32m     16\u001b[0m \u001b[0mvalid_acc\u001b[0m \u001b[0;34m=\u001b[0m \u001b[0mmodel\u001b[0m\u001b[0;34m.\u001b[0m\u001b[0mhistory\u001b[0m\u001b[0;34m.\u001b[0m\u001b[0mhistory\u001b[0m\u001b[0;34m[\u001b[0m\u001b[0;34m\"val_acc\"\u001b[0m\u001b[0;34m]\u001b[0m\u001b[0;34m\u001b[0m\u001b[0;34m\u001b[0m\u001b[0m\n",
      "\u001b[0;31mKeyError\u001b[0m: 'acc'"
     ]
    }
   ],
   "source": [
    "model = build_mlp(input_shape=x_train.shape[1:])\n",
    "model.summary()\n",
    "optimizer = keras.optimizers.SGD(lr=LEARNING_RATE, nesterov=True, momentum=MOMENTUM)\n",
    "model.compile(loss=\"categorical_crossentropy\", metrics=[\"accuracy\"], optimizer=optimizer)\n",
    "\n",
    "model.fit(x_train, y_train, \n",
    "          epochs=EPOCHS, \n",
    "          batch_size=BATCH_SIZE, \n",
    "          validation_data=(x_test, y_test), \n",
    "          shuffle=True)\n",
    "\n",
    "# Collect results\n",
    "train_loss = model.history.history[\"loss\"]\n",
    "valid_loss = model.history.history[\"val_loss\"]\n"
   ]
  },
  {
   "cell_type": "code",
   "execution_count": 8,
   "metadata": {},
   "outputs": [],
   "source": [
    "train_acc = model.history.history[\"accuracy\"]\n",
    "valid_acc = model.history.history[\"val_accuracy\"]"
   ]
  },
  {
   "cell_type": "code",
   "execution_count": 9,
   "metadata": {
    "scrolled": true
   },
   "outputs": [
    {
     "data": {
      "image/png": "[encoded data removed]",
      "text/plain": [
       "<Figure size 432x288 with 1 Axes>"
      ]
     },
     "metadata": {
      "needs_background": "light"
     },
     "output_type": "display_data"
    },
    {
     "data": {
      "image/png": "[encoded data removed]",
      "text/plain": [
       "<Figure size 432x288 with 1 Axes>"
      ]
     },
     "metadata": {
      "needs_background": "light"
     },
     "output_type": "display_data"
    }
   ],
   "source": [
    "import matplotlib.pyplot as plt\n",
    "%matplotlib inline\n",
    "\n",
    "plt.plot(range(len(train_loss)), train_loss, label=\"train loss\")\n",
    "plt.plot(range(len(valid_loss)), valid_loss, label=\"valid loss\")\n",
    "plt.legend()\n",
    "plt.title(\"Loss\")\n",
    "plt.show()\n",
    "\n",
    "plt.plot(range(len(train_acc)), train_acc, label=\"train accuracy\")\n",
    "plt.plot(range(len(valid_acc)), valid_acc, label=\"valid accuracy\")\n",
    "plt.legend()\n",
    "plt.title(\"Accuracy\")\n",
    "plt.show()"
   ]
  }
 ],
 "metadata": {
  "kernelspec": {
   "display_name": "Python 3",
   "language": "python",
   "name": "python3"
  },
  "language_info": {
   "codemirror_mode": {
    "name": "ipython",
    "version": 3
   },
   "file_extension": ".py",
   "mimetype": "text/x-python",
   "name": "python",
   "nbconvert_exporter": "python",
   "pygments_lexer": "ipython3",
   "version": "3.7.3"
  }
 },
 "nbformat": 4,
 "nbformat_minor": 2
}
