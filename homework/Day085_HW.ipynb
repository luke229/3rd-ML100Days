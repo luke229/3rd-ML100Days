{
 "cells": [
  {
   "cell_type": "markdown",
   "metadata": {},
   "source": [
    "## Work\n",
    "1. 試改變 monitor \"Validation Accuracy\" 並比較結果\n",
    "2. 調整 earlystop 的等待次數至 10, 25 並比較結果"
   ]
  },
  {
   "cell_type": "code",
   "execution_count": 16,
   "metadata": {},
   "outputs": [],
   "source": [
    "import os\n",
    "import keras\n",
    "import matplotlib.pyplot as plt\n",
    "%matplotlib inline\n",
    "\n",
    "\n",
    "# Disable GPU\n",
    "#os.environ[\"CUDA_VISIBLE_DEVICES\"] = \"\""
   ]
  },
  {
   "cell_type": "code",
   "execution_count": 17,
   "metadata": {},
   "outputs": [],
   "source": [
    "train, test = keras.datasets.cifar10.load_data()"
   ]
  },
  {
   "cell_type": "code",
   "execution_count": 18,
   "metadata": {},
   "outputs": [],
   "source": [
    "## 資料前處理\n",
    "def preproc_x(x, flatten=True):\n",
    "    x = x / 255.\n",
    "    if flatten:\n",
    "        x = x.reshape((len(x), -1))\n",
    "    return x\n",
    "\n",
    "def preproc_y(y, num_classes=10):\n",
    "    if y.shape[-1] == 1:\n",
    "        y = keras.utils.to_categorical(y, num_classes)\n",
    "    return y    "
   ]
  },
  {
   "cell_type": "code",
   "execution_count": 19,
   "metadata": {},
   "outputs": [],
   "source": [
    "x_train, y_train = train\n",
    "x_test, y_test = test\n",
    "\n",
    "# Preproc the inputs\n",
    "x_train = preproc_x(x_train)\n",
    "x_test = preproc_x(x_test)\n",
    "\n",
    "# Preprc the outputs\n",
    "y_train = preproc_y(y_train)\n",
    "y_test = preproc_y(y_test)"
   ]
  },
  {
   "cell_type": "code",
   "execution_count": 21,
   "metadata": {},
   "outputs": [],
   "source": [
    "\n",
    "\n",
    "from keras.layers import BatchNormalization\n",
    "def build_mlp(input_shape, output_units=10, num_neurons=[512, 256, 128]):\n",
    "    input_layer = keras.layers.Input(input_shape)\n",
    "    \n",
    "    for i, n_units in enumerate(num_neurons):\n",
    "        if i == 0:\n",
    "            x = keras.layers.Dense(units=n_units, \n",
    "                                   activation=\"relu\", \n",
    "                                   name=\"hidden_layer\"+str(i+1))(input_layer)\n",
    "            x = BatchNormalization()(x)\n",
    "        else:\n",
    "            x = keras.layers.Dense(units=n_units, \n",
    "                                   activation=\"relu\", \n",
    "                                   name=\"hidden_layer\"+str(i+1))(x)\n",
    "            x = BatchNormalization()(x)\n",
    "    \n",
    "    out = keras.layers.Dense(units=output_units, activation=\"softmax\", name=\"output\")(x)\n",
    "    \n",
    "    model = keras.models.Model(inputs=[input_layer], outputs=[out])\n",
    "    return model"
   ]
  },
  {
   "cell_type": "code",
   "execution_count": 22,
   "metadata": {},
   "outputs": [],
   "source": [
    "\"\"\"Code Here\n",
    "設定超參數\n",
    "\"\"\"\n",
    "LEARNING_RATE = 1e-3\n",
    "EPOCHS = 50\n",
    "BATCH_SIZE = 1024\n",
    "MOMENTUM = 0.95"
   ]
  },
  {
   "cell_type": "code",
   "execution_count": 23,
   "metadata": {},
   "outputs": [
    {
     "name": "stdout",
     "output_type": "stream",
     "text": [
      "Model: \"model_1\"\n",
      "_________________________________________________________________\n",
      "Layer (type)                 Output Shape              Param #   \n",
      "=================================================================\n",
      "input_1 (InputLayer)         (None, 3072)              0         \n",
      "_________________________________________________________________\n",
      "hidden_layer1 (Dense)        (None, 512)               1573376   \n",
      "_________________________________________________________________\n",
      "batch_normalization_1 (Batch (None, 512)               2048      \n",
      "_________________________________________________________________\n",
      "hidden_layer2 (Dense)        (None, 256)               131328    \n",
      "_________________________________________________________________\n",
      "batch_normalization_2 (Batch (None, 256)               1024      \n",
      "_________________________________________________________________\n",
      "hidden_layer3 (Dense)        (None, 128)               32896     \n",
      "_________________________________________________________________\n",
      "batch_normalization_3 (Batch (None, 128)               512       \n",
      "_________________________________________________________________\n",
      "output (Dense)               (None, 10)                1290      \n",
      "=================================================================\n",
      "Total params: 1,742,474\n",
      "Trainable params: 1,740,682\n",
      "Non-trainable params: 1,792\n",
      "_________________________________________________________________\n",
      "Train on 50000 samples, validate on 10000 samples\n",
      "Epoch 1/50\n",
      "50000/50000 [==============================] - 4s 90us/step - loss: 2.2240 - accuracy: 0.2744 - val_loss: 2.1933 - val_accuracy: 0.1494\n",
      "Epoch 2/50\n",
      "50000/50000 [==============================] - 4s 83us/step - loss: 1.7273 - accuracy: 0.3968 - val_loss: 1.9970 - val_accuracy: 0.2686\n",
      "Epoch 3/50\n",
      "50000/50000 [==============================] - 5s 94us/step - loss: 1.6041 - accuracy: 0.4376 - val_loss: 1.8344 - val_accuracy: 0.3539\n",
      "Epoch 4/50\n",
      "50000/50000 [==============================] - 5s 97us/step - loss: 1.5309 - accuracy: 0.4642 - val_loss: 1.7060 - val_accuracy: 0.3976\n",
      "Epoch 5/50\n",
      "50000/50000 [==============================] - 5s 92us/step - loss: 1.4797 - accuracy: 0.4804 - val_loss: 1.6247 - val_accuracy: 0.4271\n",
      "Epoch 6/50\n",
      "50000/50000 [==============================] - 5s 90us/step - loss: 1.4357 - accuracy: 0.4981 - val_loss: 1.5741 - val_accuracy: 0.4480\n",
      "Epoch 7/50\n",
      "50000/50000 [==============================] - 5s 91us/step - loss: 1.3974 - accuracy: 0.5109 - val_loss: 1.5411 - val_accuracy: 0.4571\n",
      "Epoch 8/50\n",
      "50000/50000 [==============================] - 5s 92us/step - loss: 1.3634 - accuracy: 0.5221 - val_loss: 1.5231 - val_accuracy: 0.4578\n",
      "Epoch 9/50\n",
      "50000/50000 [==============================] - 5s 93us/step - loss: 1.3316 - accuracy: 0.5353 - val_loss: 1.4967 - val_accuracy: 0.4691\n",
      "Epoch 10/50\n",
      "50000/50000 [==============================] - 5s 92us/step - loss: 1.3020 - accuracy: 0.5458 - val_loss: 1.4876 - val_accuracy: 0.4719\n",
      "Epoch 11/50\n",
      "50000/50000 [==============================] - 5s 92us/step - loss: 1.2747 - accuracy: 0.5549 - val_loss: 1.4743 - val_accuracy: 0.4726\n",
      "Epoch 12/50\n",
      "50000/50000 [==============================] - 5s 93us/step - loss: 1.2495 - accuracy: 0.5631 - val_loss: 1.4759 - val_accuracy: 0.4771\n",
      "Epoch 13/50\n",
      "50000/50000 [==============================] - 5s 95us/step - loss: 1.2234 - accuracy: 0.5747 - val_loss: 1.4578 - val_accuracy: 0.4826\n",
      "Epoch 14/50\n",
      "50000/50000 [==============================] - 5s 96us/step - loss: 1.1981 - accuracy: 0.5832 - val_loss: 1.4516 - val_accuracy: 0.4861\n",
      "Epoch 15/50\n",
      "50000/50000 [==============================] - 5s 99us/step - loss: 1.1770 - accuracy: 0.5919 - val_loss: 1.4573 - val_accuracy: 0.4811\n",
      "Epoch 16/50\n",
      "50000/50000 [==============================] - 5s 96us/step - loss: 1.1530 - accuracy: 0.6007 - val_loss: 1.4521 - val_accuracy: 0.4854\n",
      "Epoch 17/50\n",
      "50000/50000 [==============================] - 5s 105us/step - loss: 1.1287 - accuracy: 0.6111 - val_loss: 1.4449 - val_accuracy: 0.4849\n",
      "Epoch 18/50\n",
      "50000/50000 [==============================] - 5s 96us/step - loss: 1.1085 - accuracy: 0.6186 - val_loss: 1.4493 - val_accuracy: 0.4884\n",
      "Epoch 19/50\n",
      "50000/50000 [==============================] - 5s 90us/step - loss: 1.0855 - accuracy: 0.6281 - val_loss: 1.4444 - val_accuracy: 0.4913\n",
      "Epoch 20/50\n",
      "50000/50000 [==============================] - 5s 90us/step - loss: 1.0648 - accuracy: 0.6332 - val_loss: 1.4391 - val_accuracy: 0.4944\n",
      "Epoch 21/50\n",
      "50000/50000 [==============================] - 5s 96us/step - loss: 1.0429 - accuracy: 0.6430 - val_loss: 1.4362 - val_accuracy: 0.4934\n",
      "Epoch 22/50\n",
      "50000/50000 [==============================] - 4s 90us/step - loss: 1.0231 - accuracy: 0.6508 - val_loss: 1.4436 - val_accuracy: 0.4900\n",
      "Epoch 23/50\n",
      "50000/50000 [==============================] - 4s 89us/step - loss: 0.9995 - accuracy: 0.6605 - val_loss: 1.4418 - val_accuracy: 0.4949\n",
      "Epoch 24/50\n",
      "50000/50000 [==============================] - 4s 89us/step - loss: 0.9803 - accuracy: 0.6666 - val_loss: 1.4400 - val_accuracy: 0.4969\n",
      "Epoch 25/50\n",
      "50000/50000 [==============================] - 5s 97us/step - loss: 0.9617 - accuracy: 0.6751 - val_loss: 1.4485 - val_accuracy: 0.4939\n",
      "Epoch 26/50\n",
      "50000/50000 [==============================] - 4s 89us/step - loss: 0.9396 - accuracy: 0.6847 - val_loss: 1.4491 - val_accuracy: 0.4967\n",
      "Epoch 27/50\n",
      "50000/50000 [==============================] - 5s 91us/step - loss: 0.9219 - accuracy: 0.6901 - val_loss: 1.4499 - val_accuracy: 0.5013\n",
      "Epoch 28/50\n",
      "50000/50000 [==============================] - 5s 95us/step - loss: 0.9010 - accuracy: 0.6992 - val_loss: 1.4641 - val_accuracy: 0.4997\n",
      "Epoch 29/50\n",
      "50000/50000 [==============================] - 4s 89us/step - loss: 0.8792 - accuracy: 0.7071 - val_loss: 1.4696 - val_accuracy: 0.4952\n",
      "Epoch 30/50\n",
      "50000/50000 [==============================] - 4s 89us/step - loss: 0.8613 - accuracy: 0.7148 - val_loss: 1.4612 - val_accuracy: 0.5004\n",
      "Epoch 31/50\n",
      "50000/50000 [==============================] - 5s 92us/step - loss: 0.8407 - accuracy: 0.7215 - val_loss: 1.4643 - val_accuracy: 0.4981\n",
      "Epoch 00031: early stopping\n"
     ]
    },
    {
     "ename": "KeyError",
     "evalue": "'acc'",
     "output_type": "error",
     "traceback": [
      "\u001b[0;31m---------------------------------------------------------------------------\u001b[0m",
      "\u001b[0;31mKeyError\u001b[0m                                  Traceback (most recent call last)",
      "\u001b[0;32m<ipython-input-23-0d9364050fc2>\u001b[0m in \u001b[0;36m<module>\u001b[0;34m\u001b[0m\n\u001b[1;32m     23\u001b[0m \u001b[0mtrain_loss\u001b[0m \u001b[0;34m=\u001b[0m \u001b[0mmodel\u001b[0m\u001b[0;34m.\u001b[0m\u001b[0mhistory\u001b[0m\u001b[0;34m.\u001b[0m\u001b[0mhistory\u001b[0m\u001b[0;34m[\u001b[0m\u001b[0;34m\"loss\"\u001b[0m\u001b[0;34m]\u001b[0m\u001b[0;34m\u001b[0m\u001b[0;34m\u001b[0m\u001b[0m\n\u001b[1;32m     24\u001b[0m \u001b[0mvalid_loss\u001b[0m \u001b[0;34m=\u001b[0m \u001b[0mmodel\u001b[0m\u001b[0;34m.\u001b[0m\u001b[0mhistory\u001b[0m\u001b[0;34m.\u001b[0m\u001b[0mhistory\u001b[0m\u001b[0;34m[\u001b[0m\u001b[0;34m\"val_loss\"\u001b[0m\u001b[0;34m]\u001b[0m\u001b[0;34m\u001b[0m\u001b[0;34m\u001b[0m\u001b[0m\n\u001b[0;32m---> 25\u001b[0;31m \u001b[0mtrain_acc\u001b[0m \u001b[0;34m=\u001b[0m \u001b[0mmodel\u001b[0m\u001b[0;34m.\u001b[0m\u001b[0mhistory\u001b[0m\u001b[0;34m.\u001b[0m\u001b[0mhistory\u001b[0m\u001b[0;34m[\u001b[0m\u001b[0;34m\"acc\"\u001b[0m\u001b[0;34m]\u001b[0m\u001b[0;34m\u001b[0m\u001b[0;34m\u001b[0m\u001b[0m\n\u001b[0m\u001b[1;32m     26\u001b[0m \u001b[0mvalid_acc\u001b[0m \u001b[0;34m=\u001b[0m \u001b[0mmodel\u001b[0m\u001b[0;34m.\u001b[0m\u001b[0mhistory\u001b[0m\u001b[0;34m.\u001b[0m\u001b[0mhistory\u001b[0m\u001b[0;34m[\u001b[0m\u001b[0;34m\"val_acc\"\u001b[0m\u001b[0;34m]\u001b[0m\u001b[0;34m\u001b[0m\u001b[0;34m\u001b[0m\u001b[0m\n",
      "\u001b[0;31mKeyError\u001b[0m: 'acc'"
     ]
    }
   ],
   "source": [
    "# 載入 Callbacks\n",
    "from keras.callbacks import EarlyStopping\n",
    "\n",
    "earlystop = EarlyStopping(monitor=\"val_loss\", \n",
    "                          patience=10, \n",
    "                          verbose=1\n",
    "                          )\n",
    "\n",
    "model = build_mlp(input_shape=x_train.shape[1:])\n",
    "model.summary()\n",
    "optimizer = keras.optimizers.SGD(lr=LEARNING_RATE, nesterov=True, momentum=MOMENTUM)\n",
    "model.compile(loss=\"categorical_crossentropy\", metrics=[\"accuracy\"], optimizer=optimizer)\n",
    "\n",
    "model.fit(x_train, y_train, \n",
    "          epochs=EPOCHS, \n",
    "          batch_size=BATCH_SIZE, \n",
    "          validation_data=(x_test, y_test), \n",
    "          shuffle=True,\n",
    "          callbacks=[earlystop]\n",
    "         )\n",
    "\n",
    "# Collect results\n",
    "train_loss = model.history.history[\"loss\"]\n",
    "valid_loss = model.history.history[\"val_loss\"]\n"
   ]
  },
  {
   "cell_type": "code",
   "execution_count": 24,
   "metadata": {},
   "outputs": [],
   "source": [
    "train_acc = model.history.history[\"accuracy\"]\n",
    "valid_acc = model.history.history[\"val_accuracy\"]"
   ]
  },
  {
   "cell_type": "code",
   "execution_count": 25,
   "metadata": {},
   "outputs": [
    {
     "data": {
      "image/png": "[encoded data removed]",
      "text/plain": [
       "<Figure size 432x288 with 1 Axes>"
      ]
     },
     "metadata": {
      "needs_background": "light"
     },
     "output_type": "display_data"
    },
    {
     "data": {
      "image/png": "[encoded data removed]",
      "text/plain": [
       "<Figure size 432x288 with 1 Axes>"
      ]
     },
     "metadata": {
      "needs_background": "light"
     },
     "output_type": "display_data"
    }
   ],
   "source": [
    "import matplotlib.pyplot as plt\n",
    "%matplotlib inline\n",
    "\n",
    "plt.plot(range(len(train_loss)), train_loss, label=\"train loss\")\n",
    "plt.plot(range(len(valid_loss)), valid_loss, label=\"valid loss\")\n",
    "plt.legend()\n",
    "plt.title(\"Loss\")\n",
    "plt.show()\n",
    "\n",
    "plt.plot(range(len(train_acc)), train_acc, label=\"train accuracy\")\n",
    "plt.plot(range(len(valid_acc)), valid_acc, label=\"valid accuracy\")\n",
    "plt.legend()\n",
    "plt.title(\"Accuracy\")\n",
    "plt.show()"
   ]
  }
 ],
 "metadata": {
  "kernelspec": {
   "display_name": "Python 3",
   "language": "python",
   "name": "python3"
  },
  "language_info": {
   "codemirror_mode": {
    "name": "ipython",
    "version": 3
   },
   "file_extension": ".py",
   "mimetype": "text/x-python",
   "name": "python",
   "nbconvert_exporter": "python",
   "pygments_lexer": "ipython3",
   "version": "3.7.3"
  }
 },
 "nbformat": 4,
 "nbformat_minor": 2
}
